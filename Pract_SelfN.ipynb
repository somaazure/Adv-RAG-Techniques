{
 "cells": [
  {
   "cell_type": "markdown",
   "id": "08a4d8d9",
   "metadata": {},
   "source": [
    "Here's a **10-line explanation** of the code that will be executed as part of this notebook:\n",
    "\n",
    "1. **Read and preprocess PDF**: Loads and extracts text from a PDF file using `PyPDF`, filtering out empty pages.\n",
    "2. **Split text**: First splits large text into manageable chunks using `RecursiveCharacterTextSplitter`, then refines these chunks based on token count with `SentenceTransformersTokenTextSplitter`.\n",
    "3. **Embed text**: Initializes a `SentenceTransformerEmbeddingFunction` and creates a Chroma vector store (`chromadb`) to embed and store the processed text.\n",
    "4. **Indexing**: Each chunk is embedded and added to a Chroma collection with unique IDs.\n",
    "5. **Querying**: A natural language query is used to retrieve top-matching document chunks based on vector similarity.\n",
    "6. **Query augmentation**: The query is enhanced using OpenAI’s GPT model to generate a hypothetical answer, creating a more informative \"joint query.\"\n",
    "7. **Re-query**: The joint query is re-run on the vector store to retrieve even more contextually relevant documents.\n",
    "8. **Embeddings for visualization**: Embeddings of the dataset, query, and results are reduced to 2D using UMAP for plotting.\n",
    "9. **Visualization**: Matplotlib is used to plot the embedding space, showing the dataset, query, and retrieved document positions.\n",
    "10. **Purpose**: This process builds a mini-RAG (Retrieval-Augmented Generation) pipeline with visual insight into how queries relate to embedded document content.\n"
   ]
  },
  {
   "cell_type": "code",
   "execution_count": null,
   "id": "c62fddbb",
   "metadata": {},
   "outputs": [],
   "source": [
    "pip install umap"
   ]
  },
  {
   "cell_type": "code",
   "execution_count": 3,
   "id": "5e14a35d",
   "metadata": {},
   "outputs": [],
   "source": [
    "from helper_utils import project_embeddings, word_wrap\n",
    "from pypdf import PdfReader\n",
    "import os\n",
    "from openai import OpenAI\n",
    "from dotenv import load_dotenv\n",
    "\n",
    "from pypdf import PdfReader\n",
    "import umap\n",
    "\n",
    "\n",
    "# Load environment variables from .env file\n",
    "load_dotenv()\n",
    "\n",
    "openai_key = os.getenv(\"OPENAI_API_KEY\")\n",
    "client = OpenAI(api_key=openai_key)\n",
    "\n",
    "reader = PdfReader(\"data/microsoft-annual-report.pdf\")"
   ]
  },
  {
   "cell_type": "code",
   "execution_count": 6,
   "id": "93a933d6",
   "metadata": {},
   "outputs": [
    {
     "name": "stdout",
     "output_type": "stream",
     "text": [
      "[PageObject(0), PageObject(1), PageObject(2), PageObject(3), PageObject(4), PageObject(5), PageObject(6), PageObject(7), PageObject(8), PageObject(9), PageObject(10), PageObject(11), PageObject(12), PageObject(13), PageObject(14), PageObject(15), PageObject(16), PageObject(17), PageObject(18), PageObject(19), PageObject(20), PageObject(21), PageObject(22), PageObject(23), PageObject(24), PageObject(25), PageObject(26), PageObject(27), PageObject(28), PageObject(29), PageObject(30), PageObject(31), PageObject(32), PageObject(33), PageObject(34), PageObject(35), PageObject(36), PageObject(37), PageObject(38), PageObject(39), PageObject(40), PageObject(41), PageObject(42), PageObject(43), PageObject(44), PageObject(45), PageObject(46), PageObject(47), PageObject(48), PageObject(49), PageObject(50), PageObject(51), PageObject(52), PageObject(53), PageObject(54), PageObject(55), PageObject(56), PageObject(57), PageObject(58), PageObject(59), PageObject(60), PageObject(61), PageObject(62), PageObject(63), PageObject(64), PageObject(65), PageObject(66), PageObject(67), PageObject(68), PageObject(69), PageObject(70), PageObject(71), PageObject(72), PageObject(73), PageObject(74), PageObject(75), PageObject(76), PageObject(77), PageObject(78), PageObject(79), PageObject(80), PageObject(81), PageObject(82), PageObject(83), PageObject(84), PageObject(85), PageObject(86), PageObject(87), PageObject(88), PageObject(89), PageObject(90), PageObject(91), PageObject(92), PageObject(93), PageObject(94), PageObject(95), PageObject(96), PageObject(97), PageObject(98), PageObject(99), PageObject(100), PageObject(101), PageObject(102), PageObject(103), PageObject(104), PageObject(105), PageObject(106), PageObject(107), PageObject(108), PageObject(109), PageObject(110), PageObject(111), PageObject(112), PageObject(113), PageObject(114), PageObject(115)]\n"
     ]
    }
   ],
   "source": [
    "type(reader)\n",
    "print(reader.pages)"
   ]
  },
  {
   "cell_type": "code",
   "execution_count": 8,
   "id": "4280b8f3",
   "metadata": {},
   "outputs": [
    {
     "data": {
      "text/plain": [
       "list"
      ]
     },
     "execution_count": 8,
     "metadata": {},
     "output_type": "execute_result"
    }
   ],
   "source": [
    "pdf_texts = [p.extract_text().strip() for p in reader.pages]\n",
    "type(pdf_texts)"
   ]
  },
  {
   "cell_type": "code",
   "execution_count": 9,
   "id": "20702973",
   "metadata": {},
   "outputs": [
    {
     "data": {
      "text/plain": [
       "['Dear shareholders, colleagues, customers, and partners,  \\nWe are living through a time of historic challenge and opportunity. As I write this, the world faces ongoing economic, \\nsocial, and geopolitical volatility. At the same time, we have entered a new age of AI that will fundamentally transform \\nproductivity for every individual, organization, and industry on earth, and help us address some of our most pressing \\nchallenges.  \\nThis next generation of AI will reshape every software category and every business, including our own. Forty-eight years \\nafter its founding, Microsoft remains a consequential company because time and time again—from PC/Server, to Web/\\nInternet, to Cloud/Mobile—we have adapted to technological paradigm shifts. Today, we are doing so once again, as we \\nlead this new era.  \\nAmid this transformation, our mission to empower every person and every organization on the planet to achieve \\nmore remains constant. As a company, we believe we can be the democratizing force for this new generation of \\ntechnology and the opportunity it will help unlock for every country, community, and individual, while mitigating its risks.  \\nHere are just a few examples of how we are already doing this:  \\n• Leading electronic health records vendor Epic is addressing some of the biggest challenges facing the \\nhealthcare industry today—including physician burnout—by deploying a wide range of copilot solutions built \\non Azure OpenAI Service and Dragon Ambient eXperience Copilot.  \\n• Mercado Libre is reducing the time its developers spend writing code by more than 50  percent with GitHub \\nCopilot, as the company works to democratize e-commerce across Latin America.  \\n• Mercedes-Benz is making its in-car voice assistant more intuitive for hundreds of thousands of drivers using \\nChatGPT via the Azure OpenAI Service.  \\n• Lumen Technologies is helping its employees be more productive, enabling them to focus on higher value-\\nadded activities, by deploying Microsoft 365 Copilot.  \\n• Nonprofit The Contingent is matching foster families with children in need using Dynamics 365, Power BI, and \\nAzure, with an eye on using AI to amplify its work across the US.  \\n• And, Taiwan’s Ministry of Education has built an online platform to help elementary and high school students \\nlearn English using Azure AI.  \\nTo build on this progress, we remain convicted on three things: First, we will maintain our lead as the top commercial \\ncloud while innovating in consumer categories, from gaming to professional social networks. Second, because we know \\nthat maximum enterprise value gets created during platform shifts like this one, we will invest to accelerate our lead in AI \\nby infusing this technology across every layer of the tech stack. And, finally, we will continue to drive operating leverage, \\naligning our cost structure with our revenue growth.  \\nAs we make progress on these priorities, we delivered strong results in fiscal year 2023, including a record $211  billion in \\nrevenue and over $88 billion in operating income.  \\nA NEW ERA OF AI  \\nThere are two breakthroughs coming together to define this new era of AI. The first is the most universal interface: natural \\nlanguage. The long arc of computing has, in many ways, been shaped by the pursuit of increasingly intuitive human-\\ncomputer interfaces—keyboards, mice, touch screens. We believe we have now arrived at the next big step forward—\\nnatural language—and will quickly go beyond, to see, hear, interpret, and make sense of our intent and the world around \\nus.  \\n  \\nThe second is the emergence of a powerful new reasoning engine. For years, we’ve digitized daily life, places, and things \\nand organized them into databases. But in a world rich with data, what has been most scarce is our ability to reason over \\nit. This generation of AI helps us interact with data in powerful new ways—from completing or summarizing text, to \\ndetecting anomalies and recognizing images—to help us identify patterns and surface insights faster than ever.  \\nTogether, these two breakthroughs will unlock massive new opportunity. And, in fact, just last month we announced our \\nvision for Copilot, an everyday AI companion. We are building Copilot into all our most used products and experiences \\nand allowing people to summon its power as a standalone app as well. Just like you boot up an OS to access applications \\nor use a browser to visit websites today, our belief is that you will invoke a Copilot to do all those activities and more: to \\nshop, to code, to analyze, to learn, to create.  \\n1',\n",
       " 'As a company, any time we approach a transition like this, we do so responsibly. We believe AI should be as empowering \\nacross communities as it is powerful, and we’re committed to ensuring it is responsibly built and designed, with safety in \\nmind from the outset.  \\nOUR OPPORTUNITY  \\nEvery customer solution area and every layer of our tech stack will be reimagined for the AI era. And that’s exactly what \\nwe’ve already begun to do:  \\nInfrastructure  \\nFour years ago, we first invested in our AI supercomputer, with a goal of building the best cloud for training and inference. \\nToday, it’s being used by our partner OpenAI to power its best-in-class foundation models and services, including one of \\nthe fastest-growing consumer apps ever—ChatGPT. NVIDIA, as well as leading AI startups like Adept and Inflection, is \\nalso using our infrastructure to build its own breakthrough models.  \\nMore broadly, organizations continue to choose our ubiquitous computing fabric—from cloud to edge—to run their \\nmission-critical applications. We continued to see more cloud migrations to Azure this past fiscal year, as it remains early \\nwhen it comes to the long-term cloud opportunity. And we also continue to lead in hybrid computing with Azure Arc, which \\nnow has 18,000 customers.  \\nData and AI  \\nEvery AI app starts with data, and having a comprehensive data and analytics platform is more important than ever. Our \\nIntelligent Data Platform brings together operational databases, analytics, and governance so organizations can spend \\nmore time creating value and less time integrating their data estate. We also introduced Microsoft Fabric this year, which \\nunifies compute, storage, and governance with a disruptive business model.  \\nWith Azure AI, we are making foundation models available as platforms to our customers. We offer the best selection of \\nindustry-leading frontier and open models. In January, we made the Azure OpenAI Service broadly available, bringing \\ntogether advanced models, including ChatGPT and GPT-4, with the enterprise capabilities of Azure. More than 11,000 \\norganizations across industries are already using it for advanced scenarios like content and code generation. Meta chose \\nus this summer as its preferred cloud to commercialize its Llama family of models. And, with Azure AI Studio, we provide a \\nfull lifecycle toolchain customers can use to ground these models on their own data, create prompt workflows, and help \\nensure they are deployed and used safely.  \\nDigital and app innovation  \\nGitHub Copilot is fundamentally transforming developer productivity, helping developers complete coding tasks 55 percent \\nfaster. More than 27,000 organizations have chosen GitHub Copilot for Business, and to date more than 1  million people \\nhave used GitHub Copilot to code faster. We also announced our vision for the future of software development with \\nGitHub Copilot X, which will bring the power of AI throughout the entire software development lifecycle. All up, GitHub \\nsurpassed $1 billion in annual recurring revenue for the first time this fiscal year.  \\nWe’re also applying AI across our low-code/no-code toolchain to help domain experts across an organization automate \\nworkflows, create apps and webpages, build virtual agents, or analyze data, using just natural language with copilots in \\nPower Platform. More than 63,000 organizations have used AI-powered capabilities in Power Platform to date.  \\nBusiness applications  \\nWe are bringing the next generation of AI to employees across every job function and every line of business with \\nDynamics 365 Copilot, which works across CRM and ERP systems to reduce burdensome tasks like manual data entry, \\ncontent generation, and notetaking. In fact, our own support agents are using Copilot in Dynamics 365 Customer Service \\nto resolve more cases faster and without having to call on peers to help. With our Supply Chain Platform, we’re helping \\ncustomers apply AI to predict and mitigate disruptions. And, with our new Microsoft Sales Copilot, sellers can infuse their \\ncustomer interactions with data from CRM systems—including both Salesforce and Dynamics—to close more deals.  \\nAll up, Dynamics surpassed $5  billion in revenue over the past fiscal year, with our customer experience, service, and \\nfinance and supply chain businesses each surpassing $1 billion in annual sales.  \\n2',\n",
       " 'Industry  \\nAcross industries, we are rapidly becoming the partner of choice for any organization looking to generate real value from \\nAI. In healthcare, for example, we introduced the world’s first fully automated clinical documentation application, DAX \\nCopilot. The application helps physicians reduce documentation time by half, freeing them to spend more time face to \\nface with patients. And Epic will integrate it directly into its electronic health records system.  \\nAnd, in retail, we introduced new tools to help companies manage their day-to-day operations and digitize their physical \\nstores.  \\nModern work  \\nWe are rapidly evolving Microsoft 365 into an AI-first platform that enables every individual to amplify their creativity and \\nproductivity, with both our established applications like Office and Teams, as well as new apps like Designer, Stream, and \\nLoop. Microsoft 365 is designed for today’s digitally connected, distributed workforce.  \\nThis year, we also introduced a new pillar of customer value with Microsoft 365 Copilot, which combines next-generation \\nAI with business data in the Microsoft Graph and Microsoft 365 applications to help people be more productive and \\nunleash their creativity at work. Just last month, I was excited to announce that we will make Microsoft 365 Copilot \\ngenerally available to our commercial customers later this year.  \\nWe continue to build momentum in Microsoft Teams across collaboration, chat, meetings, and calls. We introduced a new \\nversion of Teams that delivers up to two times faster performance, while using 50  percent less memory. We also \\nintroduced Teams Premium to meet enterprise demand for AI-powered features like intelligent meeting recaps. All up, \\nTeams usage surpassed 300 million monthly active users this year.  \\nWith Microsoft Viva, we have created a new category for employee experience. Copilot in Viva offers leaders a new way \\nto build high-performance teams by prioritizing both productivity and employee engagement. This year, Viva surpassed \\n35 million monthly active users.  \\n  \\nSecurity  \\nAs the rate and pace of cyberthreats continue to accelerate, security is a top priority for every organization. Our \\ncomprehensive, AI-powered solutions give defenders the advantage. With Security Copilot, we’re combining large \\nlanguage models with a domain-specific model informed by our threat intelligence and 65 trillion daily security signals, to \\ntransform every aspect of security operations center productivity.  \\nAll up, more than 1  million organizations now count on our comprehensive, AI-powered solutions to protect their digital \\nestates, and our security business surpassed $20  billion in annual revenue, as we help protect customers across clouds \\nand endpoint platforms.  \\nSearch, advertising, and news  \\nWe are reshaping daily search and web habits with our new Bing and Microsoft Edge browser, which brings together \\nsearch, browsing, chat, and AI into one unified experience to deliver better search, more complete answers, a new chat \\nexperience, and the ability to generate content. We think of these tools as an AI copilot for the web.  \\nWe are also bringing these breakthrough capabilities to businesses, with Bing Chat Enterprise, which offers commercial \\ndata protection, providing an easy on-ramp for any organization looking to get the benefit of next-generation AI today.  \\nAlthough it’s early in our journey, Bing users engaged in more than 1  billion chats and created more than 750  million \\nimages over the past year as they apply these new tools to get things done. And Edge has taken share for nine \\nconsecutive quarters.  \\nMore broadly, we continue to expand our opportunity in advertising. This year, Netflix chose us as its exclusive technology \\nand sales partner for its first ad-supported subscription offering, a validation of the differentiated value we provide to any \\npublisher looking for a flexible partner to build and innovate with them.  \\n3',\n",
       " 'LinkedIn  \\nThe excitement around AI is creating new opportunities across every function—from marketing, sales, service, and \\nfinance, to software development and security. And LinkedIn is increasingly where people are going to learn, discuss, and \\nuplevel their skills. We are using AI to help our members and customers connect to opportunities and tap into the \\nexperiences of experts on the platform. In fact, our AI-powered articles are already the fastest-growing traffic driver to the \\nnetwork.  \\nAll up, LinkedIn’s revenue surpassed $15 billion for the first time this fiscal year, a testament to how mission critical the \\nplatform has become to help more than 950 million members connect, learn, sell, and get hired.  \\nGaming  \\nIn gaming, we are rapidly executing on our ambition to be the first choice for people to play great games whenever, \\nwherever, and however they want. With Xbox Game Pass, we are redefining how games are distributed, played, and \\nviewed. Content is the flywheel behind the service’s growth, and our pipeline has never been stronger. It was especially \\nenergizing to release Starfield this fall to broad acclaim, with more than 10  million players in the first month post-launch \\nalone.  \\nEarlier this month, we were thrilled to close our acquisition of Activision Blizzard, and we look forward to sharing more in \\nthe coming months about how, together, we will bring the joy of gaming to more people around the world.  \\n  \\nDevices and creativity  \\nFinally, we’re turning Windows into a powerful new AI canvas with Copilot, which rolled out as part of a Windows 11 \\nupdate last month. It uniquely incorporates the context and intelligence of the web, your work data, and what you are \\ndoing in the moment on your PC to provide better assistance, while keeping your privacy and security at the forefront. \\nOverall, the number of devices running Windows 11 more than doubled in the past year. And we are also transforming \\nhow Windows is experienced and managed with Azure Virtual Desktop and Windows 365, which together surpassed \\n$1 billion in annual revenue for the first time.  \\nOUR RESPONSIBILITY  \\nAs we pursue our opportunity, we are also working to ensure technology helps us solve problems—not create new ones. \\nTo do this, we focus on four enduring commitments that are central to our mission and that take on even greater \\nimportance in this new era. For us, these commitments are more than just words. They’re a guide to help us make \\ndecisions across everything we do—as we design and develop products, shape business processes and policies, help our \\ncustomers thrive, build partnerships, and more—always asking ourselves critical questions to ensure our actions are \\naligned with them.  \\nHow can we expand opportunity?  \\nFirst, we believe access to economic growth and opportunity should reach every person, organization, community, and \\ncountry. And although AI can serve as a catalyst for opportunity and growth, we must first ensure everyone has access to \\nthe technologies, data, and skills they need to benefit.  \\nTo achieve this, we are focused on getting technology into the hands of nonprofits, social entrepreneurs, and other civil \\nsociety organizations to help them digitally transform, so they can help address some of society’s biggest challenges. This \\nyear, we provided nonprofits with over $3.8  billion in discounted and donated technology. Nearly 325,000 nonprofits used \\nour cloud. And to help them tap the potential of AI, we’re building new AI capabilities for fundraising, marketing, and \\nprogram delivery.  \\nAI will displace some jobs, but it will also create new ones. That’s why we aim to train and certify 10  million people by \\n2025 with the skills for jobs and livelihoods in an increasingly digital economy. Since July 2020, we’ve helped 8.5  million \\npeople, including 2.7  million this year. We’ve also focused on skilling women and underrepresented communities in \\ncybersecurity, working across 28 countries and with nearly 400 US community colleges to scale our efforts.  \\nFinally, to help people learn more about AI, we launched the first online Professional Certificate on Generative AI in \\npartnership with LinkedIn Learning, created AI tools for educators, and held our first AI Community Learning event in the \\nUS. These events will be replicated around the world and localized in 10 languages over the next year. We also partnered \\nto launch a Generative AI Skills Grant Challenge to explore how nonprofit, social enterprise, and research or academic \\ninstitutions can empower the workforce to use this new generation of AI.  \\n4']"
      ]
     },
     "execution_count": 9,
     "metadata": {},
     "output_type": "execute_result"
    }
   ],
   "source": [
    "pdf_texts[1:5]"
   ]
  },
  {
   "cell_type": "code",
   "execution_count": 10,
   "id": "a870d3d6",
   "metadata": {},
   "outputs": [],
   "source": [
    "from langchain.text_splitter import (RecursiveCharacterTextSplitter, SentenceTransformersTokenTextSplitter)"
   ]
  },
  {
   "cell_type": "code",
   "execution_count": 11,
   "id": "65ef4cc0",
   "metadata": {},
   "outputs": [
    {
     "name": "stdout",
     "output_type": "stream",
     "text": [
      "\u001b[31mInit signature:\u001b[39m\n",
      "RecursiveCharacterTextSplitter(\n",
      "    separators: \u001b[33m'Optional[List[str]]'\u001b[39m = \u001b[38;5;28;01mNone\u001b[39;00m,\n",
      "    keep_separator: \u001b[33m\"Union[bool, Literal['start', 'end']]\"\u001b[39m = \u001b[38;5;28;01mTrue\u001b[39;00m,\n",
      "    is_separator_regex: \u001b[33m'bool'\u001b[39m = \u001b[38;5;28;01mFalse\u001b[39;00m,\n",
      "    **kwargs: \u001b[33m'Any'\u001b[39m,\n",
      ") -> \u001b[33m'None'\u001b[39m\n",
      "\u001b[31mDocstring:\u001b[39m     \n",
      "Splitting text by recursively look at characters.\n",
      "\n",
      "Recursively tries to split by different characters to find one\n",
      "that works.\n",
      "\u001b[31mInit docstring:\u001b[39m Create a new TextSplitter.\n",
      "\u001b[31mFile:\u001b[39m           c:\\users\\somashekar.inguva\\onedrive - telstra\\documents\\genai_projects\\venv_genai\\lib\\site-packages\\langchain_text_splitters\\character.py\n",
      "\u001b[31mType:\u001b[39m           ABCMeta\n",
      "\u001b[31mSubclasses:\u001b[39m     JSFrameworkTextSplitter, LatexTextSplitter, MarkdownTextSplitter, PythonCodeTextSplitter"
     ]
    }
   ],
   "source": [
    "character_splitter = RecursiveCharacterTextSplitter?"
   ]
  },
  {
   "cell_type": "code",
   "execution_count": 12,
   "id": "c5043098",
   "metadata": {},
   "outputs": [],
   "source": [
    "character_splitter = RecursiveCharacterTextSplitter(\n",
    "    separators=[\"\\n\\n\", \"\\n\", \". \", \" \", \"\"],chunk_size=1000,chunk_overlap=0)"
   ]
  },
  {
   "cell_type": "code",
   "execution_count": 13,
   "id": "60ecb87a",
   "metadata": {},
   "outputs": [],
   "source": [
    "character_split_texts = character_splitter.split_text(\"\\n\\n\".join(pdf_texts))"
   ]
  },
  {
   "cell_type": "code",
   "execution_count": 14,
   "id": "581540f4",
   "metadata": {},
   "outputs": [
    {
     "data": {
      "text/plain": [
       "list"
      ]
     },
     "execution_count": 14,
     "metadata": {},
     "output_type": "execute_result"
    }
   ],
   "source": [
    "type(character_split_texts)"
   ]
  },
  {
   "cell_type": "code",
   "execution_count": 15,
   "id": "c1d3126c",
   "metadata": {},
   "outputs": [
    {
     "data": {
      "text/plain": [
       "350"
      ]
     },
     "execution_count": 15,
     "metadata": {},
     "output_type": "execute_result"
    }
   ],
   "source": [
    "len(character_split_texts)"
   ]
  },
  {
   "cell_type": "code",
   "execution_count": 17,
   "id": "f921860e",
   "metadata": {},
   "outputs": [
    {
     "name": "stdout",
     "output_type": "stream",
     "text": [
      "Industry  \n",
      "Across industries, we are rapidly becoming the partner of choice for any org\n",
      "anization looking to generate real value from \n",
      "AI. In healthcare, for example, we intro\n",
      "duced the world’s first fully automated clinical documentation application, DAX \n",
      "Copilo\n",
      "t. The application helps physicians reduce documentation time by half, freeing them to \n",
      "spend more time face to \n",
      "face with patients. And Epic will integrate it directly into i\n",
      "ts electronic health records system.  \n",
      "And, in retail, we introduced new tools to help \n",
      "companies manage their day-to-day operations and digitize their physical \n",
      "stores.  \n",
      "Mod\n",
      "ern work  \n",
      "We are rapidly evolving Microsoft 365 into an AI-first platform that enables\n",
      " every individual to amplify their creativity and \n",
      "productivity, with both our establis\n",
      "hed applications like Office and Teams, as well as new apps like Designer, Stream, and \n",
      "\n",
      "Loop. Microsoft 365 is designed for today’s digitally connected, distributed workforce\n",
      ".\n"
     ]
    }
   ],
   "source": [
    "print(word_wrap(character_split_texts[10]))"
   ]
  },
  {
   "cell_type": "code",
   "execution_count": 24,
   "id": "b4fe22f3",
   "metadata": {},
   "outputs": [
    {
     "data": {
      "text/plain": [
       "(958, 962)"
      ]
     },
     "execution_count": 24,
     "metadata": {},
     "output_type": "execute_result"
    }
   ],
   "source": [
    "len(character_split_texts[10]),len(character_split_texts[15])"
   ]
  },
  {
   "cell_type": "code",
   "execution_count": 19,
   "id": "8043e2df",
   "metadata": {},
   "outputs": [
    {
     "data": {
      "text/plain": [
       "['Dear shareholders, colleagues, customers, and partners,  \\nWe are living through a time of historic challenge and opportunity. As I write this, the world faces ongoing economic, \\nsocial, and geopolitical volatility. At the same time, we have entered a new age of AI that will fundamentally transform \\nproductivity for every individual, organization, and industry on earth, and help us address some of our most pressing \\nchallenges.  \\nThis next generation of AI will reshape every software category and every business, including our own. Forty-eight years \\nafter its founding, Microsoft remains a consequential company because time and time again—from PC/Server, to Web/\\nInternet, to Cloud/Mobile—we have adapted to technological paradigm shifts. Today, we are doing so once again, as we \\nlead this new era.  \\nAmid this transformation, our mission to empower every person and every organization on the planet to achieve',\n",
       " 'more remains constant. As a company, we believe we can be the democratizing force for this new generation of \\ntechnology and the opportunity it will help unlock for every country, community, and individual, while mitigating its risks.  \\nHere are just a few examples of how we are already doing this:  \\n• Leading electronic health records vendor Epic is addressing some of the biggest challenges facing the \\nhealthcare industry today—including physician burnout—by deploying a wide range of copilot solutions built \\non Azure OpenAI Service and Dragon Ambient eXperience Copilot.  \\n• Mercado Libre is reducing the time its developers spend writing code by more than 50  percent with GitHub \\nCopilot, as the company works to democratize e-commerce across Latin America.  \\n• Mercedes-Benz is making its in-car voice assistant more intuitive for hundreds of thousands of drivers using \\nChatGPT via the Azure OpenAI Service.']"
      ]
     },
     "execution_count": 19,
     "metadata": {},
     "output_type": "execute_result"
    }
   ],
   "source": [
    "character_split_texts[0:2]"
   ]
  },
  {
   "cell_type": "code",
   "execution_count": 20,
   "id": "cfc05d08",
   "metadata": {},
   "outputs": [
    {
     "name": "stdout",
     "output_type": "stream",
     "text": [
      "\u001b[31mInit signature:\u001b[39m\n",
      "SentenceTransformersTokenTextSplitter(\n",
      "    chunk_overlap: \u001b[33m'int'\u001b[39m = \u001b[32m50\u001b[39m,\n",
      "    model_name: \u001b[33m'str'\u001b[39m = \u001b[33m'sentence-transformers/all-mpnet-base-v2'\u001b[39m,\n",
      "    tokens_per_chunk: \u001b[33m'Optional[int]'\u001b[39m = \u001b[38;5;28;01mNone\u001b[39;00m,\n",
      "    **kwargs: \u001b[33m'Any'\u001b[39m,\n",
      ") -> \u001b[33m'None'\u001b[39m\n",
      "\u001b[31mDocstring:\u001b[39m      Splitting text to tokens using sentence model tokenizer.\n",
      "\u001b[31mInit docstring:\u001b[39m Create a new TextSplitter.\n",
      "\u001b[31mFile:\u001b[39m           c:\\users\\somashekar.inguva\\onedrive - telstra\\documents\\genai_projects\\venv_genai\\lib\\site-packages\\langchain_text_splitters\\sentence_transformers.py\n",
      "\u001b[31mType:\u001b[39m           ABCMeta\n",
      "\u001b[31mSubclasses:\u001b[39m     "
     ]
    }
   ],
   "source": [
    "token_splitter = SentenceTransformersTokenTextSplitter?"
   ]
  },
  {
   "cell_type": "markdown",
   "id": "bc1a9621",
   "metadata": {},
   "source": [
    "## Selfnotes:\n",
    "Question: is it good option to use over RecursiveCharacterTextSplitter while splitting the texts ? or both are of different usecase ? \n",
    "\n",
    "Answer: \n",
    "Great question — whether to use `SentenceTransformersTokenTextSplitter` or `RecursiveCharacterTextSplitter` depends on your **use case**, the **models you're working with**, and your goals for **text splitting**. Here's a detailed comparison to help you decide:\n",
    "\n",
    "---\n",
    "\n",
    "### 🔀 **High-Level Comparison**\n",
    "\n",
    "| Feature                          | `SentenceTransformersTokenTextSplitter`                          | `RecursiveCharacterTextSplitter`                                                |\n",
    "| -------------------------------- | ---------------------------------------------------------------- | ------------------------------------------------------------------------------- |\n",
    "| **Splitting Basis**              | Token count using SentenceTransformer tokenizer                  | Character-based with recursive rules (e.g. \"\\n\\n\", \"\\n\", \".\", \" \")              |\n",
    "| **Model Awareness**              | ✅ Yes – tokenizes based on actual model tokenizer                | ❌ No – doesn't know about tokens or model limits                                |\n",
    "| **Best for**                     | Embedding models (e.g., SBERT, MiniLM) where token limits matter | General-purpose splitting when tokenization isn't a concern                     |\n",
    "| **Maintains Semantic Integrity** | ✅ Yes (sentence-level, avoids cutting in the middle of thoughts) | ⚠️ Maybe – depends on how well text structure aligns with the fallback strategy |\n",
    "| **Customizability**              | Moderate (based on tokenizer and chunk sizes)                    | Highly flexible with fallback hierarchy                                         |\n",
    "\n",
    "---\n",
    "\n",
    "### 🧠 Use Case Breakdown\n",
    "\n",
    "#### ✅ **Use `SentenceTransformersTokenTextSplitter` if:**\n",
    "\n",
    "* You're preparing **text for embedding** using a SentenceTransformer model.\n",
    "* You want to ensure **chunks stay within token limits** (e.g. 512 tokens).\n",
    "* You care about **semantic continuity** in chunks (to avoid splitting sentences unnaturally).\n",
    "\n",
    "#### ✅ **Use `RecursiveCharacterTextSplitter` if:**\n",
    "\n",
    "* You're working with **non-token-based models**, or just want to split text intelligently for display, summarization, etc.\n",
    "* You want a **hierarchical and flexible** fallback (e.g., try splitting by paragraphs first, then sentences, then words).\n",
    "* You don't care about exact token counts, just general chunk length (e.g., 1000 characters).\n",
    "\n",
    "---\n",
    "\n",
    "### 🎯 Practical Example\n",
    "\n",
    "**Document Retrieval + Embedding:**\n",
    "\n",
    "* Use `SentenceTransformersTokenTextSplitter` to chunk input into **token-aware**, semantically meaningful pieces.\n",
    "* This ensures your vector database (e.g., FAISS, Pinecone) stores high-quality embeddings.\n",
    "\n",
    "**Text Summarization or Display UI:**\n",
    "\n",
    "* Use `RecursiveCharacterTextSplitter` to split large documents into **readable chunks** without necessarily worrying about token count.\n",
    "\n",
    "---\n",
    "\n",
    "### 🧪 TL;DR Recommendation\n",
    "\n",
    "* **Embedding use cases (RAG, search)**: 👉 `SentenceTransformersTokenTextSplitter`\n",
    "* **General NLP preprocessing / summarization / readability**: 👉 `RecursiveCharacterTextSplitter`\n",
    "\n",
    "---"
   ]
  },
  {
   "cell_type": "markdown",
   "id": "8f746f92",
   "metadata": {},
   "source": [
    " ## Summary\n",
    "character_split_texts: chunks ~1000 characters each, semantically aware, helps break big documents down.\n",
    "\n",
    "Later: further refined into token_split_texts of max 256 tokens for model compatibility."
   ]
  },
  {
   "cell_type": "code",
   "execution_count": 29,
   "id": "a904ca4a",
   "metadata": {},
   "outputs": [
    {
     "data": {
      "application/vnd.jupyter.widget-view+json": {
       "model_id": "8676bca9527d462cb629a30d9bc61a82",
       "version_major": 2,
       "version_minor": 0
      },
      "text/plain": [
       "modules.json:   0%|          | 0.00/349 [00:00<?, ?B/s]"
      ]
     },
     "metadata": {},
     "output_type": "display_data"
    },
    {
     "name": "stderr",
     "output_type": "stream",
     "text": [
      "c:\\Users\\somashekar.inguva\\OneDrive - Telstra\\Documents\\GenAI_Projects\\venv_GenAI\\Lib\\site-packages\\huggingface_hub\\file_download.py:144: UserWarning: `huggingface_hub` cache-system uses symlinks by default to efficiently store duplicated files but your machine does not support them in C:\\Users\\somashekar.inguva\\.cache\\huggingface\\hub\\models--sentence-transformers--all-mpnet-base-v2. Caching files will still work but in a degraded version that might require more space on your disk. This warning can be disabled by setting the `HF_HUB_DISABLE_SYMLINKS_WARNING` environment variable. For more details, see https://huggingface.co/docs/huggingface_hub/how-to-cache#limitations.\n",
      "To support symlinks on Windows, you either need to activate Developer Mode or to run Python as an administrator. In order to activate developer mode, see this article: https://docs.microsoft.com/en-us/windows/apps/get-started/enable-your-device-for-development\n",
      "  warnings.warn(message)\n"
     ]
    },
    {
     "data": {
      "application/vnd.jupyter.widget-view+json": {
       "model_id": "21ec70e3823b41d480b0f5dd1b3ec55f",
       "version_major": 2,
       "version_minor": 0
      },
      "text/plain": [
       "config_sentence_transformers.json:   0%|          | 0.00/116 [00:00<?, ?B/s]"
      ]
     },
     "metadata": {},
     "output_type": "display_data"
    },
    {
     "data": {
      "application/vnd.jupyter.widget-view+json": {
       "model_id": "9e60eb5e0442451594cd97a81f01b96e",
       "version_major": 2,
       "version_minor": 0
      },
      "text/plain": [
       "README.md:   0%|          | 0.00/10.4k [00:00<?, ?B/s]"
      ]
     },
     "metadata": {},
     "output_type": "display_data"
    },
    {
     "data": {
      "application/vnd.jupyter.widget-view+json": {
       "model_id": "76327fe871c6464f86d80cf8b29fdb68",
       "version_major": 2,
       "version_minor": 0
      },
      "text/plain": [
       "sentence_bert_config.json:   0%|          | 0.00/53.0 [00:00<?, ?B/s]"
      ]
     },
     "metadata": {},
     "output_type": "display_data"
    },
    {
     "data": {
      "application/vnd.jupyter.widget-view+json": {
       "model_id": "72432862017f4d4384e52a42a00608b3",
       "version_major": 2,
       "version_minor": 0
      },
      "text/plain": [
       "config.json:   0%|          | 0.00/571 [00:00<?, ?B/s]"
      ]
     },
     "metadata": {},
     "output_type": "display_data"
    },
    {
     "name": "stderr",
     "output_type": "stream",
     "text": [
      "Xet Storage is enabled for this repo, but the 'hf_xet' package is not installed. Falling back to regular HTTP download. For better performance, install the package with: `pip install huggingface_hub[hf_xet]` or `pip install hf_xet`\n"
     ]
    },
    {
     "data": {
      "application/vnd.jupyter.widget-view+json": {
       "model_id": "b86a4673514f47968e03dbf94b9ed36a",
       "version_major": 2,
       "version_minor": 0
      },
      "text/plain": [
       "model.safetensors:   0%|          | 0.00/438M [00:00<?, ?B/s]"
      ]
     },
     "metadata": {},
     "output_type": "display_data"
    },
    {
     "data": {
      "application/vnd.jupyter.widget-view+json": {
       "model_id": "a91abdb39f284d06a33b7dd98a14eba8",
       "version_major": 2,
       "version_minor": 0
      },
      "text/plain": [
       "tokenizer_config.json:   0%|          | 0.00/363 [00:00<?, ?B/s]"
      ]
     },
     "metadata": {},
     "output_type": "display_data"
    },
    {
     "data": {
      "application/vnd.jupyter.widget-view+json": {
       "model_id": "eabcb8e9d2c447f6ab1c9c272f2eb4a5",
       "version_major": 2,
       "version_minor": 0
      },
      "text/plain": [
       "vocab.txt:   0%|          | 0.00/232k [00:00<?, ?B/s]"
      ]
     },
     "metadata": {},
     "output_type": "display_data"
    },
    {
     "data": {
      "application/vnd.jupyter.widget-view+json": {
       "model_id": "fbd2ae55866b4bcdb706a7923f681c21",
       "version_major": 2,
       "version_minor": 0
      },
      "text/plain": [
       "tokenizer.json:   0%|          | 0.00/466k [00:00<?, ?B/s]"
      ]
     },
     "metadata": {},
     "output_type": "display_data"
    },
    {
     "data": {
      "application/vnd.jupyter.widget-view+json": {
       "model_id": "ae2a6095ca764c2d87d8ea7a4d7725b7",
       "version_major": 2,
       "version_minor": 0
      },
      "text/plain": [
       "special_tokens_map.json:   0%|          | 0.00/239 [00:00<?, ?B/s]"
      ]
     },
     "metadata": {},
     "output_type": "display_data"
    },
    {
     "data": {
      "application/vnd.jupyter.widget-view+json": {
       "model_id": "58d185908cc84043af0d5606bfe6d1a4",
       "version_major": 2,
       "version_minor": 0
      },
      "text/plain": [
       "config.json:   0%|          | 0.00/190 [00:00<?, ?B/s]"
      ]
     },
     "metadata": {},
     "output_type": "display_data"
    }
   ],
   "source": [
    "token_splitter = SentenceTransformersTokenTextSplitter(\n",
    "    chunk_overlap=0, tokens_per_chunk=256\n",
    ")"
   ]
  },
  {
   "cell_type": "code",
   "execution_count": 31,
   "id": "d6c99841",
   "metadata": {},
   "outputs": [],
   "source": [
    "token_split_texts = []\n",
    "for text in character_split_texts:\n",
    "    token_split_texts += token_splitter.split_text(text)"
   ]
  },
  {
   "cell_type": "code",
   "execution_count": 33,
   "id": "dfdf2f79",
   "metadata": {},
   "outputs": [
    {
     "data": {
      "text/plain": [
       "'dear shareholders, colleagues, customers, and partners, we are living through a time of historic challenge and opportunity. as i write this, the world faces ongoing economic, social, and geopolitical volatility. at the same time, we have entered a new age of ai that will fundamentally transform productivity for every individual, organization, and industry on earth, and help us address some of our most pressing challenges. this next generation of ai will reshape every software category and every business, including our own. forty - eight years after its founding, microsoft remains a consequential company because time and time again — from pc / server, to web / internet, to cloud / mobile — we have adapted to technological paradigm shifts. today, we are doing so once again, as we lead this new era. amid this transformation, our mission to empower every person and every organization on the planet to achieve'"
      ]
     },
     "execution_count": 33,
     "metadata": {},
     "output_type": "execute_result"
    }
   ],
   "source": [
    "type(token_split_texts)\n",
    "token_split_texts[0]"
   ]
  },
  {
   "cell_type": "code",
   "execution_count": 37,
   "id": "63da8565",
   "metadata": {},
   "outputs": [
    {
     "name": "stdout",
     "output_type": "stream",
     "text": [
      "industry across industries, we are rapidly becoming the partner of choice for any organ\n",
      "ization looking to generate real value from ai. in healthcare, for example, we introduc\n",
      "ed the world ’ s first fully automated clinical documentation application, dax copilot.\n",
      " the application helps physicians reduce documentation time by half, freeing them to sp\n",
      "end more time face to face with patients. and epic will integrate it directly into its \n",
      "electronic health records system. and, in retail, we introduced new tools to help compa\n",
      "nies manage their day - to - day operations and digitize their physical stores. modern \n",
      "work we are rapidly evolving microsoft 365 into an ai - first platform that enables eve\n",
      "ry individual to amplify their creativity and productivity, with both our established a\n",
      "pplications like office and teams, as well as new apps like designer, stream, and loop.\n",
      " microsoft 365 is designed for today ’ s digitally connected, distributed workforce.\n",
      "\n",
      "Total chunks: 359\n"
     ]
    }
   ],
   "source": [
    "print(word_wrap(token_split_texts[10]))\n",
    "print(f\"\\nTotal chunks: {len(token_split_texts)}\")"
   ]
  },
  {
   "cell_type": "code",
   "execution_count": null,
   "id": "d383b3d9",
   "metadata": {},
   "outputs": [
    {
     "name": "stdout",
     "output_type": "stream",
     "text": [
      "\n",
      "Total chunks: 350\n"
     ]
    }
   ],
   "source": [
    "print(f\"\\nTotal chunks: {len(character_split_texts)}\") ## without Transformer model , chunking.."
   ]
  },
  {
   "cell_type": "code",
   "execution_count": 39,
   "id": "7b9959ce",
   "metadata": {},
   "outputs": [
    {
     "name": "stdout",
     "output_type": "stream",
     "text": [
      "Industry  \n",
      "Across industries, we are rapidly becoming the partner of choice for any org\n",
      "anization looking to generate real value from \n",
      "AI. In healthcare, for example, we intro\n",
      "duced the world’s first fully automated clinical documentation application, DAX \n",
      "Copilo\n",
      "t. The application helps physicians reduce documentation time by half, freeing them to \n",
      "spend more time face to \n",
      "face with patients. And Epic will integrate it directly into i\n",
      "ts electronic health records system.  \n",
      "And, in retail, we introduced new tools to help \n",
      "companies manage their day-to-day operations and digitize their physical \n",
      "stores.  \n",
      "Mod\n",
      "ern work  \n",
      "We are rapidly evolving Microsoft 365 into an AI-first platform that enables\n",
      " every individual to amplify their creativity and \n",
      "productivity, with both our establis\n",
      "hed applications like Office and Teams, as well as new apps like Designer, Stream, and \n",
      "\n",
      "Loop. Microsoft 365 is designed for today’s digitally connected, distributed workforce\n",
      ".\n"
     ]
    }
   ],
   "source": [
    "print(word_wrap(character_split_texts[10]))"
   ]
  },
  {
   "cell_type": "code",
   "execution_count": 40,
   "id": "aa930a97",
   "metadata": {},
   "outputs": [],
   "source": [
    "import chromadb\n",
    "from chromadb.utils.embedding_functions import SentenceTransformerEmbeddingFunction"
   ]
  },
  {
   "cell_type": "code",
   "execution_count": 41,
   "id": "9bd31a83",
   "metadata": {},
   "outputs": [],
   "source": [
    "embedding_function = SentenceTransformerEmbeddingFunction()"
   ]
  },
  {
   "cell_type": "code",
   "execution_count": null,
   "id": "fd064973",
   "metadata": {},
   "outputs": [],
   "source": [
    "print(embedding_function([token_split_texts[10]]))"
   ]
  },
  {
   "cell_type": "code",
   "execution_count": 45,
   "id": "2f63ceb9",
   "metadata": {},
   "outputs": [],
   "source": [
    "chroma_client = chromadb.Client()"
   ]
  },
  {
   "cell_type": "code",
   "execution_count": 47,
   "id": "047c575a",
   "metadata": {},
   "outputs": [],
   "source": [
    "chroma_collection = chroma_client.create_collection(\n",
    "    name=\"microsoft-collection\",embedding_function=embedding_function)"
   ]
  },
  {
   "cell_type": "code",
   "execution_count": 49,
   "id": "a0ca78ad",
   "metadata": {},
   "outputs": [],
   "source": [
    "ids = [str(i) for i in range(len(token_split_texts))]"
   ]
  },
  {
   "cell_type": "code",
   "execution_count": 51,
   "id": "219fcc31",
   "metadata": {},
   "outputs": [
    {
     "data": {
      "text/plain": [
       "(359, 359)"
      ]
     },
     "execution_count": 51,
     "metadata": {},
     "output_type": "execute_result"
    }
   ],
   "source": [
    "len(ids),len(token_split_texts)"
   ]
  },
  {
   "cell_type": "code",
   "execution_count": 52,
   "id": "172cc495",
   "metadata": {},
   "outputs": [
    {
     "data": {
      "text/plain": [
       "359"
      ]
     },
     "execution_count": 52,
     "metadata": {},
     "output_type": "execute_result"
    }
   ],
   "source": [
    "chroma_collection.add(ids=ids,documents = token_split_texts)\n",
    "chroma_collection.count()"
   ]
  },
  {
   "cell_type": "code",
   "execution_count": 55,
   "id": "9ae07970",
   "metadata": {},
   "outputs": [
    {
     "data": {
      "text/plain": [
       "chromadb.api.models.Collection.Collection"
      ]
     },
     "execution_count": 55,
     "metadata": {},
     "output_type": "execute_result"
    }
   ],
   "source": [
    "type(chroma_collection)"
   ]
  },
  {
   "cell_type": "code",
   "execution_count": null,
   "id": "d5db7f7f",
   "metadata": {},
   "outputs": [],
   "source": [
    "query = \"What was the total revenue for the year?\"\n",
    "##Querying: A natural language query is used to retrieve top-matching document chunks based on vector similarity."
   ]
  },
  {
   "cell_type": "code",
   "execution_count": 59,
   "id": "0e744859",
   "metadata": {},
   "outputs": [
    {
     "data": {
      "text/plain": [
       "{'ids': [['153', '328', '330', '193', '201']],\n",
       " 'embeddings': None,\n",
       " 'documents': [['general and administrative $ 7, 575 $ 5, 900 28 % as a percent of revenue 4 % 3 % 1ppt 35',\n",
       "   'segment revenue and operating income were as follows during the periods presented : no sales to an individual customer or country other than the united states accounted for more than 10 % of revenue for fiscal years 2023, 2022, or 2021. revenue, classified by the major geographic areas in which our customers were located, was as follows : ( a ) includes billings to oems and certain multinational organizations because of the nature of these businesses and the impracticability of determining the geographic source of the revenue. ( in millions ) year ended june 30, 2023 2022 2021 revenue productivity and business processes $ 69, 274 $ 63, 364 $ 53, 915 intelligent cloud 87, 907 74, 965 59, 728 more personal computing 54, 734 59, 941 54, 445 total $ 211, 915 $ 198, 270 $ 168, 088 operating income productivity and business processes $ 34, 189 $ 29, 690 $ 24, 351 intelligent cloud 37, 884 33, 203 26, 471',\n",
       "   'revenue, classified by significant product and service offerings, was as follows : our microsoft cloud revenue, which includes azure and other cloud services, office 365 commercial, the commercial portion of linkedin, dynamics 365, and other commercial cloud properties, was $ 111. 6 billion, $ 91. 4 billion, and $ 69. 1 billion in fiscal years 2023, 2022, and 2021, respectively. these amounts are primarily included in server products and cloud services, office products and cloud services, linkedin, and dynamics in the table above. assets are not allocated to segments for internal reporting presentations. a portion of amortization and depreciation is included with various other costs in an overhead allocation to each segment. it is impracticable for us to separately identify the amount of amortization and depreciation by segment that is included in the measure of segment profit or loss.',\n",
       "   'income statements ( in millions, except per share amounts ) year ended june 30, 2023 2022 2021 revenue : product $ 64, 699 $ 72, 732 $ 71, 074 service and other 147, 216 125, 538 97, 014 total revenue 211, 915 198, 270 168, 088 cost of revenue : product 17, 804 19, 064 18, 219 service and other 48, 059 43, 586 34, 013 total cost of revenue 65, 863 62, 650 52, 232 gross margin 146, 052 135, 620 115, 856 research and development 27, 195 24, 512 20, 716 sales and marketing 22, 759 21, 825 20, 117 general and administrative 7, 575 5, 900 5, 107 operating income 88, 523 83, 383 69, 916 other income, net 788 333 1, 186 income before income taxes 89, 311 83, 716 71, 102 provision for income taxes 16, 950 10, 978 9, 831 net income $ 72, 361 $ 72, 738 $ 61, 271 earnings per share : basic $ 9. 72 $ 9. 70 $ 8. 12 diluted $ 9. 68 $',\n",
       "   '( in millions ) year ended june 30, 2023 2022 2021 operations net income $ 72, 361 $ 72, 738 $ 61, 271 adjustments to reconcile net income to net cash from operations : depreciation, amortization, and other 13, 861 14, 460 11, 686 stock - based compensation expense 9, 611 7, 502 6, 118 net recognized losses ( gains ) on investments and derivatives 196 ( 409 ) ( 1, 249 ) deferred income taxes ( 6, 059 ) ( 5, 702 ) ( 150 ) changes in operating assets and liabilities : accounts receivable ( 4, 087 ) ( 6, 834 ) ( 6, 481 ) inventories 1, 242 ( 1, 123 ) ( 737 ) other current assets ( 1, 991 ) ( 709 ) ( 932 ) other long - term assets ( 2, 833 ) ( 2, 805 ) ( 3, 459 ) accounts payable ( 2, 721 ) 2, 943 2, 798 unearned revenue 5, 535 5, 109 4, 633 income taxes ( 358 ) 696 ( 2, 309 ) other current liabilities 2, 272 2,']],\n",
       " 'uris': None,\n",
       " 'data': None,\n",
       " 'metadatas': [[None, None, None, None, None]],\n",
       " 'distances': [[0.7851988077163696,\n",
       "   0.8562164902687073,\n",
       "   0.8985804319381714,\n",
       "   0.9205355644226074,\n",
       "   0.9279846549034119]],\n",
       " 'included': [<IncludeEnum.distances: 'distances'>,\n",
       "  <IncludeEnum.documents: 'documents'>,\n",
       "  <IncludeEnum.metadatas: 'metadatas'>]}"
      ]
     },
     "execution_count": 59,
     "metadata": {},
     "output_type": "execute_result"
    }
   ],
   "source": [
    "results = chroma_collection.query(query_texts=[query],n_results=5)\n",
    "results"
   ]
  },
  {
   "cell_type": "code",
   "execution_count": 62,
   "id": "362a07b9",
   "metadata": {},
   "outputs": [],
   "source": [
    "retrieved_documents = results[\"documents\"][0]"
   ]
  },
  {
   "cell_type": "code",
   "execution_count": null,
   "id": "c281adf0",
   "metadata": {},
   "outputs": [],
   "source": [
    "for document in retrieved_documents:\n",
    "    print(word_wrap(document))\n",
    "    print(\"\\n\")"
   ]
  },
  {
   "cell_type": "code",
   "execution_count": 65,
   "id": "5387711f",
   "metadata": {},
   "outputs": [],
   "source": [
    "##Query augmentation: The query is enhanced using OpenAI’s GPT model to generate a hypothetical answer, \n",
    "# creating a more informative \"joint query.\""
   ]
  },
  {
   "cell_type": "code",
   "execution_count": 66,
   "id": "6a027b18",
   "metadata": {},
   "outputs": [],
   "source": [
    "def augment_query_generated(query, model=\"gpt-3.5-turbo\"):\n",
    "    prompt = \"\"\"You are a helpful expert financial research assistant. \n",
    "   Provide an example answer to the given question, that might be found in a document like an annual report.\"\"\"\n",
    "    messages = [\n",
    "        {\n",
    "            \"role\": \"system\",\n",
    "            \"content\": prompt,\n",
    "        },\n",
    "        {\"role\": \"user\", \"content\": query},\n",
    "    ]\n",
    "\n",
    "    response = client.chat.completions.create(\n",
    "        model=model,\n",
    "        messages=messages,\n",
    "    )\n",
    "    content = response.choices[0].message.content\n",
    "    return content"
   ]
  },
  {
   "cell_type": "code",
   "execution_count": 67,
   "id": "bed13e5d",
   "metadata": {},
   "outputs": [
    {
     "data": {
      "text/plain": [
       "'In the current fiscal year, our company reported a total profit of $10 million. This represents a significant increase compared to the previous year, where our profit was $8 million. The 25% increase in profit demonstrates the successful implementation of our strategic initiatives and the overall growth of our business operations.'"
      ]
     },
     "execution_count": 67,
     "metadata": {},
     "output_type": "execute_result"
    }
   ],
   "source": [
    "original_query = \"What was the total profit for the year, and how does it compare to the previous year?\"\n",
    "hypothetical_answer = augment_query_generated(original_query)\n",
    "hypothetical_answer"
   ]
  },
  {
   "cell_type": "code",
   "execution_count": 68,
   "id": "18cd331c",
   "metadata": {},
   "outputs": [
    {
     "name": "stdout",
     "output_type": "stream",
     "text": [
      "What was the total profit for the year, and how does it compare to the previous year? I\n",
      "n the current fiscal year, our company reported a total profit of $10 million. This rep\n",
      "resents a significant increase compared to the previous year, where our profit was $8 m\n",
      "illion. The 25% increase in profit demonstrates the successful implementation of our st\n",
      "rategic initiatives and the overall growth of our business operations.\n"
     ]
    }
   ],
   "source": [
    "joint_query = f\"{original_query} {hypothetical_answer}\"\n",
    "print(word_wrap(joint_query))"
   ]
  },
  {
   "cell_type": "code",
   "execution_count": null,
   "id": "fe7c661a",
   "metadata": {},
   "outputs": [],
   "source": [
    "# Re-query: The joint query is re-run on the vector store to retrieve even more contextually relevant documents.\n",
    "results = chroma_collection.query(\n",
    "    query_texts=joint_query, n_results=5, include=[\"documents\", \"embeddings\"]\n",
    ")"
   ]
  },
  {
   "cell_type": "code",
   "execution_count": 73,
   "id": "d6d65c56",
   "metadata": {},
   "outputs": [],
   "source": [
    "retrieved_documents = results[\"documents\"][0]"
   ]
  },
  {
   "cell_type": "code",
   "execution_count": 74,
   "id": "655b0a3b",
   "metadata": {},
   "outputs": [
    {
     "name": "stdout",
     "output_type": "stream",
     "text": [
      "sales and marketing expenses increased $ 934 million or 4 % driven by 3 points of growt\n",
      "h from the nuance and xandr acquisitions and investments in commercial sales, offset in\n",
      " part by a decline in windows advertising. sales and marketing included a favorable for\n",
      "eign currency impact of 2 %. general and administrative general and administrative expe\n",
      "nses include payroll, employee benefits, stock - based compensation expense, employee s\n",
      "everance expense incurred as part of a corporate program, and other headcount - related\n",
      " expenses associated with ( in millions, except percentages ) 2023 2022 percentage chan\n",
      "ge research and development $ 27, 195 $ 24, 512 11 % as a percent of revenue 13 % 12 % \n",
      "1ppt ( in millions, except percentages ) 2023 2022 percentage change sales and marketin\n",
      "g $ 22, 759 $ 21, 825 4 % as a percent of revenue 11 % 11 % 0ppt ( in millions, except \n",
      "percentages ) 2023 2022 percentage change\n",
      "\n",
      "change in accounting estimate in july 2022, we completed an assessment of the useful li\n",
      "ves of our server and network equipment. due to investments in software that increased \n",
      "efficiencies in how we operate our server and network equipment, as well as advances in\n",
      " technology, we determined we should increase the estimated useful lives of both server\n",
      " and network equipment from four years to six years. this change in accounting estimate\n",
      " was effective beginning fiscal year 2023. based on the carrying amount of server and n\n",
      "etwork equipment included in property and equipment, net as of june 30, 2022, the effec\n",
      "t of this change in estimate for fiscal year 2023 was an increase in operating income o\n",
      "f $ 3. 7 billion and net income of $ 3. 0 billion, or $ 0. 40 per both basic and dilute\n",
      "d share. reportable segments we report our financial performance based on the following\n",
      " segments : productivity and business processes, intelligent\n",
      "\n",
      "• gaming revenue decreased $ 764 million or 5 % driven by declines in xbox hardware and\n",
      " xbox content and services. xbox hardware revenue decreased 11 % driven by lower volume\n",
      " and price of consoles sold. xbox content and services revenue decreased 3 % driven by \n",
      "a decline in first - party content, offset in part by growth in xbox game pass. • searc\n",
      "h and news advertising revenue increased $ 617 million or 5 %. search and news advertis\n",
      "ing revenue excluding traffic acquisition costs increased 11 % driven by higher search \n",
      "volume and the xandr acquisition. operating income decreased $ 4. 0 billion or 20 %. • \n",
      "gross margin decreased $ 4. 2 billion or 13 % driven by declines in windows and devices\n",
      ". gross margin percentage decreased driven by a decline in devices. • operating expense\n",
      "s decreased $ 195 million or 2 % driven by a decline in devices, offset in part by inve\n",
      "stments in search and news advertising, including 2 points of growth from the xandr acq\n",
      "uisition.\n",
      "\n",
      "intelligent cloud revenue increased $ 12. 9 billion or 17 %. • server products and clou\n",
      "d services revenue increased $ 12. 6 billion or 19 % driven by azure and other cloud se\n",
      "rvices. azure and other cloud services revenue grew 29 % driven by growth in our consum\n",
      "ption - based services. server products revenue decreased 1 %. • enterprise services re\n",
      "venue increased $ 315 million or 4 % driven by growth in enterprise support services, o\n",
      "ffset in part by a decline in industry solutions ( formerly microsoft consulting servic\n",
      "es ). operating income increased $ 4. 7 billion or 14 %. • gross margin increased $ 8. \n",
      "9 billion or 17 % driven by growth in azure and other cloud services and the change in \n",
      "accounting estimate. gross margin percentage decreased slightly. excluding the impact o\n",
      "f the change in accounting estimate, gross margin percentage decreased 3 points driven \n",
      "by sales mix shift to azure and other cloud services and a decline in azure and other c\n",
      "loud services.\n",
      "\n",
      "gross margin percentage decreased 1 point driven by declines in intelligent cloud and m\n",
      "ore personal computing, offset in part by sales mix shift between our segments. • micro\n",
      "soft cloud gross margin percentage increased 2 points to 72 %. excluding the impact of \n",
      "the change in accounting estimate, microsoft cloud gross margin percentage decreased sl\n",
      "ightly driven by a decline in azure and other cloud services and sales mix shift to azu\n",
      "re and other cloud services, offset in part by improvement in office 365 commercial. op\n",
      "erating expenses increased $ 5. 3 billion or 10 % driven by employee severance expenses\n",
      ", 2 points of growth from the nuance and xandr acquisitions, investments in cloud engin\n",
      "eering, and linkedin. operating income increased $ 5. 1 billion or 6 % driven by growth\n",
      " in productivity and business processes and intelligent cloud and the change in account\n",
      "ing estimate, offset in part by a decline in more personal computing.\n",
      "\n"
     ]
    }
   ],
   "source": [
    "for doc in retrieved_documents:\n",
    "    print(word_wrap(doc))\n",
    "    print(\"\")"
   ]
  },
  {
   "cell_type": "code",
   "execution_count": null,
   "id": "bd87bf78",
   "metadata": {},
   "outputs": [],
   "source": [
    "pip install umap-learn"
   ]
  },
  {
   "cell_type": "code",
   "execution_count": null,
   "id": "0d81ea98",
   "metadata": {},
   "outputs": [],
   "source": [
    "# Embeddings for visualization: Embeddings of the dataset, query, and results are reduced to 2D using \n",
    "# UMAP for plotting.\n",
    "\n",
    "# Visualization: Matplotlib is used to plot the embedding space, showing the dataset, query, \n",
    "# and retrieved document positions."
   ]
  },
  {
   "cell_type": "markdown",
   "id": "a563b111",
   "metadata": {},
   "source": [
    "Had to restart the Kernal after pip install and all variables lost, hence runnign the compelte script below. "
   ]
  },
  {
   "cell_type": "code",
   "execution_count": 2,
   "id": "15c9ded9",
   "metadata": {},
   "outputs": [
    {
     "name": "stdout",
     "output_type": "stream",
     "text": [
      "What was the total profit for the year, and how does it compare to the previous year? T\n",
      "he total profit for the year amounted to $1.5 million, which represents a 10% increase \n",
      "compared to the previous year's profit of $1.36 million. This growth can be attributed \n",
      "to increased sales and cost-saving initiatives implemented throughout the year.\n"
     ]
    },
    {
     "name": "stderr",
     "output_type": "stream",
     "text": [
      "c:\\Users\\somashekar.inguva\\OneDrive - Telstra\\Documents\\GenAI_Projects\\venv_GenAI\\Lib\\site-packages\\sklearn\\utils\\deprecation.py:151: FutureWarning: 'force_all_finite' was renamed to 'ensure_all_finite' in 1.6 and will be removed in 1.8.\n",
      "  warnings.warn(\n",
      "c:\\Users\\somashekar.inguva\\OneDrive - Telstra\\Documents\\GenAI_Projects\\venv_GenAI\\Lib\\site-packages\\umap\\umap_.py:1952: UserWarning: n_jobs value 1 overridden to 1 by setting random_state. Use no seed for parallelism.\n",
      "  warn(\n",
      "c:\\Users\\somashekar.inguva\\OneDrive - Telstra\\Documents\\GenAI_Projects\\venv_GenAI\\Lib\\site-packages\\sklearn\\utils\\deprecation.py:151: FutureWarning: 'force_all_finite' was renamed to 'ensure_all_finite' in 1.6 and will be removed in 1.8.\n",
      "  warnings.warn(\n",
      "c:\\Users\\somashekar.inguva\\OneDrive - Telstra\\Documents\\GenAI_Projects\\venv_GenAI\\Lib\\site-packages\\sklearn\\utils\\deprecation.py:151: FutureWarning: 'force_all_finite' was renamed to 'ensure_all_finite' in 1.6 and will be removed in 1.8.\n",
      "  warnings.warn(\n",
      "c:\\Users\\somashekar.inguva\\OneDrive - Telstra\\Documents\\GenAI_Projects\\venv_GenAI\\Lib\\site-packages\\sklearn\\utils\\deprecation.py:151: FutureWarning: 'force_all_finite' was renamed to 'ensure_all_finite' in 1.6 and will be removed in 1.8.\n",
      "  warnings.warn(\n",
      "c:\\Users\\somashekar.inguva\\OneDrive - Telstra\\Documents\\GenAI_Projects\\venv_GenAI\\Lib\\site-packages\\sklearn\\utils\\deprecation.py:151: FutureWarning: 'force_all_finite' was renamed to 'ensure_all_finite' in 1.6 and will be removed in 1.8.\n",
      "  warnings.warn(\n"
     ]
    },
    {
     "data": {
      "image/png": "[encoded data removed]",
      "text/plain": [
       "<Figure size 640x480 with 1 Axes>"
      ]
     },
     "metadata": {},
     "output_type": "display_data"
    }
   ],
   "source": [
    "from helper_utils import project_embeddings, word_wrap\n",
    "from pypdf import PdfReader\n",
    "import os\n",
    "from openai import OpenAI\n",
    "from dotenv import load_dotenv\n",
    "\n",
    "from pypdf import PdfReader\n",
    "import umap\n",
    "\n",
    "\n",
    "# Load environment variables from .env file\n",
    "load_dotenv()\n",
    "\n",
    "openai_key = os.getenv(\"OPENAI_API_KEY\")\n",
    "client = OpenAI(api_key=openai_key)\n",
    "\n",
    "reader = PdfReader(\"data/microsoft-annual-report.pdf\")\n",
    "pdf_texts = [p.extract_text().strip() for p in reader.pages]\n",
    "\n",
    "# Filter the empty strings\n",
    "pdf_texts = [text for text in pdf_texts if text]\n",
    "# print(\n",
    "#     word_wrap(\n",
    "#         pdf_texts[0],\n",
    "#         width=100,\n",
    "#     )\n",
    "# )\n",
    "\n",
    "# split the text into smaller chunks\n",
    "\n",
    "\n",
    "from langchain.text_splitter import (\n",
    "    RecursiveCharacterTextSplitter,\n",
    "    SentenceTransformersTokenTextSplitter,\n",
    ")\n",
    "\n",
    "character_splitter = RecursiveCharacterTextSplitter(\n",
    "    separators=[\"\\n\\n\", \"\\n\", \". \", \" \", \"\"], chunk_size=1000, chunk_overlap=0\n",
    ")\n",
    "character_split_texts = character_splitter.split_text(\"\\n\\n\".join(pdf_texts))\n",
    "\n",
    "# print(word_wrap(character_split_texts[10]))\n",
    "# print(f\"\\nTotal chunks: {len(character_split_texts)}\")\n",
    "\n",
    "token_splitter = SentenceTransformersTokenTextSplitter(\n",
    "    chunk_overlap=0, tokens_per_chunk=256\n",
    ")\n",
    "token_split_texts = []\n",
    "for text in character_split_texts:\n",
    "    token_split_texts += token_splitter.split_text(text)\n",
    "\n",
    "# print(word_wrap(token_split_texts[10]))\n",
    "# print(f\"\\nTotal chunks: {len(token_split_texts)}\")\n",
    "\n",
    "\n",
    "import chromadb\n",
    "from chromadb.utils.embedding_functions import SentenceTransformerEmbeddingFunction\n",
    "\n",
    "embedding_function = SentenceTransformerEmbeddingFunction()\n",
    "# print(embedding_function([token_split_texts[10]]))\n",
    "\n",
    "chroma_client = chromadb.Client()\n",
    "chroma_collection = chroma_client.create_collection(\n",
    "    \"microsoft-collection\", embedding_function=embedding_function\n",
    ")\n",
    "\n",
    "# extract the embeddings of the token_split_texts\n",
    "ids = [str(i) for i in range(len(token_split_texts))]\n",
    "chroma_collection.add(ids=ids, documents=token_split_texts)\n",
    "chroma_collection.count()\n",
    "\n",
    "query = \"What was the total revenue for the year?\"\n",
    "\n",
    "\n",
    "results = chroma_collection.query(query_texts=[query], n_results=5)\n",
    "retrieved_documents = results[\"documents\"][0]\n",
    "\n",
    "# for document in retrieved_documents:\n",
    "#     print(word_wrap(document))\n",
    "#     print(\"\\n\")\n",
    "\n",
    "\n",
    "def augment_query_generated(query, model=\"gpt-3.5-turbo\"):\n",
    "    prompt = \"\"\"You are a helpful expert financial research assistant. \n",
    "   Provide an example answer to the given question, that might be found in a document like an annual report.\"\"\"\n",
    "    messages = [\n",
    "        {\n",
    "            \"role\": \"system\",\n",
    "            \"content\": prompt,\n",
    "        },\n",
    "        {\"role\": \"user\", \"content\": query},\n",
    "    ]\n",
    "\n",
    "    response = client.chat.completions.create(\n",
    "        model=model,\n",
    "        messages=messages,\n",
    "    )\n",
    "    content = response.choices[0].message.content\n",
    "    return content\n",
    "\n",
    "\n",
    "original_query = \"What was the total profit for the year, and how does it compare to the previous year?\"\n",
    "hypothetical_answer = augment_query_generated(original_query)\n",
    "\n",
    "joint_query = f\"{original_query} {hypothetical_answer}\"\n",
    "print(word_wrap(joint_query))\n",
    "\n",
    "results = chroma_collection.query(\n",
    "    query_texts=joint_query, n_results=5, include=[\"documents\", \"embeddings\"]\n",
    ")\n",
    "retrieved_documents = results[\"documents\"][0]\n",
    "\n",
    "\n",
    "# for doc in retrieved_documents:\n",
    "#     print(word_wrap(doc))\n",
    "#     print(\"\")\n",
    "\n",
    "embeddings = chroma_collection.get(include=[\"embeddings\"])[\"embeddings\"]\n",
    "umap_transform = umap.UMAP(random_state=0, transform_seed=0).fit(embeddings)\n",
    "projected_dataset_embeddings = project_embeddings(embeddings, umap_transform)\n",
    "\n",
    "\n",
    "retrieved_embeddings = results[\"embeddings\"][0]\n",
    "original_query_embedding = embedding_function([original_query])\n",
    "augmented_query_embedding = embedding_function([joint_query])\n",
    "\n",
    "projected_original_query_embedding = project_embeddings(\n",
    "    original_query_embedding, umap_transform\n",
    ")\n",
    "projected_augmented_query_embedding = project_embeddings(\n",
    "    augmented_query_embedding, umap_transform\n",
    ")\n",
    "projected_retrieved_embeddings = project_embeddings(\n",
    "    retrieved_embeddings, umap_transform\n",
    ")\n",
    "\n",
    "import matplotlib.pyplot as plt\n",
    "\n",
    "# Plot the projected query and retrieved documents in the embedding space\n",
    "plt.figure()\n",
    "\n",
    "plt.scatter(\n",
    "    projected_dataset_embeddings[:, 0],\n",
    "    projected_dataset_embeddings[:, 1],\n",
    "    s=10,\n",
    "    color=\"gray\",\n",
    ")\n",
    "plt.scatter(\n",
    "    projected_retrieved_embeddings[:, 0],\n",
    "    projected_retrieved_embeddings[:, 1],\n",
    "    s=100,\n",
    "    facecolors=\"none\",\n",
    "    edgecolors=\"g\",\n",
    ")\n",
    "plt.scatter(\n",
    "    projected_original_query_embedding[:, 0],\n",
    "    projected_original_query_embedding[:, 1],\n",
    "    s=150,\n",
    "    marker=\"X\",\n",
    "    color=\"r\",\n",
    ")\n",
    "plt.scatter(\n",
    "    projected_augmented_query_embedding[:, 0],\n",
    "    projected_augmented_query_embedding[:, 1],\n",
    "    s=150,\n",
    "    marker=\"X\",\n",
    "    color=\"orange\",\n",
    ")\n",
    "\n",
    "plt.gca().set_aspect(\"equal\", \"datalim\")\n",
    "plt.title(f\"{original_query}\")\n",
    "plt.axis(\"off\")\n",
    "plt.show()  # display the plot\n"
   ]
  },
  {
   "cell_type": "markdown",
   "id": "5cf4f431",
   "metadata": {},
   "source": [
    "## Explaination of the above PLot\n",
    "this plot is a **visualization of the semantic similarity** between your query and the document chunks from the PDF, based on their vector embeddings reduced to 2D using **UMAP**.\n",
    "\n",
    "Let me explain what each type of dot represents:\n",
    "\n",
    "---\n",
    "\n",
    "### 🔘 **Gray Dots**\n",
    "\n",
    "* **What they are**: These are the **UMAP-projected embeddings of all the document chunks** in your Chroma collection (after token splitting + embedding).\n",
    "* **Purpose**: They represent the full embedding space of your PDF content — each dot is a chunk of the annual report.\n",
    "\n",
    "---\n",
    "\n",
    "### 🟢 **Green Circles (with or without borders)**\n",
    "\n",
    "* **What they are**: These are the **retrieved document chunks** returned by ChromaDB when you searched with the query.\n",
    "* **Why they matter**: They are the **most relevant chunks** according to vector similarity (top 5 results).\n",
    "* May be visualized differently depending on how `plt.scatter` is called (some might be filled, some outlined).\n",
    "\n",
    "---\n",
    "\n",
    "### 🟧 **Orange Star**\n",
    "\n",
    "* **What it is**: This is the **augmented (joint) query embedding**, i.e., the original query combined with a GPT-generated hypothetical answer.\n",
    "* **Purpose**: Used to improve retrieval quality by adding extra semantic context.\n",
    "* **Why it’s near green dots**: Because the augmented query helps \"pull\" the search closer to where relevant chunks lie.\n",
    "\n",
    "---\n",
    "\n",
    "### ❌ **Red X**\n",
    "\n",
    "* **What it is**: This is the **original query embedding** (before GPT augmentation).\n",
    "* **Why it's far**: Sometimes the raw query is too vague or lacks key terms present in the document — so it's embedded in a different region.\n",
    "\n",
    "---\n",
    "\n",
    "### 🧠 Interpretation\n",
    "\n",
    "This image shows **how query formulation affects retrieval**:\n",
    "\n",
    "* The **red X (original query)** lies far from the relevant documents.\n",
    "* The **orange star (augmented query)** is embedded closer to the green dots (retrieved docs), meaning it captures more relevant context.\n",
    "* The **green dots** are successfully retrieved chunks.\n",
    "* The **gray dots** form the full semantic map of your document content.\n",
    "\n",
    "---\n",
    "\n",
    "### ✅ Summary of Dot Meanings:\n",
    "\n",
    "| Marker          | Meaning                           |\n",
    "| --------------- | --------------------------------- |\n",
    "| ⚫ Gray dot      | All document chunk embeddings     |\n",
    "| 🟢 Green circle | Retrieved top-5 relevant chunks   |\n",
    "| ❌ Red X         | Original query embedding          |\n",
    "| ⭐ Orange star   | Augmented (joint) query embedding |\n",
    "\n"
   ]
  },
  {
   "cell_type": "markdown",
   "id": "13e77f59",
   "metadata": {},
   "source": [
    "## Case-2: Multiple Augmented Queries "
   ]
  },
  {
   "cell_type": "code",
   "execution_count": 5,
   "id": "e6bb1b58",
   "metadata": {},
   "outputs": [],
   "source": [
    "from helper_utils import project_embeddings, word_wrap\n",
    "from pypdf import PdfReader\n",
    "import os\n",
    "from openai import OpenAI\n",
    "from dotenv import load_dotenv\n",
    "\n",
    "\n",
    "from pypdf import PdfReader\n",
    "import numpy as np\n",
    "import umap\n",
    "\n",
    "\n",
    "# Load environment variables from .env file\n",
    "load_dotenv()\n",
    "\n",
    "openai_key = os.getenv(\"OPENAI_API_KEY\")\n",
    "client = OpenAI(api_key=openai_key)\n",
    "\n",
    "reader = PdfReader(\"data/microsoft-annual-report.pdf\")\n",
    "pdf_texts = [p.extract_text().strip() for p in reader.pages]\n",
    "\n",
    "# Filter the empty strings\n",
    "pdf_texts = [text for text in pdf_texts if text]\n",
    "\n",
    "\n",
    "from langchain.text_splitter import (\n",
    "    RecursiveCharacterTextSplitter,\n",
    "    SentenceTransformersTokenTextSplitter,\n",
    ")\n",
    "\n",
    "character_splitter = RecursiveCharacterTextSplitter(\n",
    "    separators=[\"\\n\\n\", \"\\n\", \". \", \" \", \"\"], chunk_size=1000, chunk_overlap=0\n",
    ")\n",
    "character_split_texts = character_splitter.split_text(\"\\n\\n\".join(pdf_texts))\n",
    "\n",
    "\n",
    "token_splitter = SentenceTransformersTokenTextSplitter(\n",
    "    chunk_overlap=0, tokens_per_chunk=256\n",
    ")\n",
    "\n",
    "token_split_texts = []\n",
    "for text in character_split_texts:\n",
    "    token_split_texts += token_splitter.split_text(text)\n",
    "\n",
    "# now we import chromadb and the SentenceTransformerEmbeddingFunction\n",
    "import chromadb\n",
    "from chromadb.utils.embedding_functions import SentenceTransformerEmbeddingFunction\n",
    "\n",
    "\n",
    "embedding_function = SentenceTransformerEmbeddingFunction()\n",
    "# print(embedding_function([token_split_texts[10]]))\n",
    "\n",
    "# we then instantiate the Chroma client and create a collection called \"microsoft-collection\"\n",
    "chroma_client = chromadb.Client()\n",
    "chroma_collection = chroma_client.create_collection(\n",
    "    \"microsoft-collection1\", embedding_function=embedding_function\n",
    ")\n",
    "\n",
    "# extract the embeddings of the token_split_texts\n",
    "ids = [str(i) for i in range(len(token_split_texts))]\n",
    "\n",
    "chroma_collection.add(ids=ids, documents=token_split_texts)\n",
    "chroma_collection.count()\n",
    "\n",
    "query = \"What was the total revenue for the year?\"\n",
    "\n",
    "results = chroma_collection.query(query_texts=[query], n_results=5)\n",
    "retrieved_documents = results[\"documents\"][0]\n",
    "\n",
    "# for document in retrieved_documents:\n",
    "#     print(word_wrap(document))\n",
    "#     print(\"\\n\")\n",
    "\n",
    "\n",
    "def generate_multi_query(query, model=\"gpt-3.5-turbo\"):\n",
    "\n",
    "    prompt = \"\"\"\n",
    "    You are a knowledgeable financial research assistant. \n",
    "    Your users are inquiring about an annual report. \n",
    "    For the given question, propose up to five related questions to assist them in finding the information they need. \n",
    "    Provide concise, single-topic questions (withouth compounding sentences) that cover various aspects of the topic. \n",
    "    Ensure each question is complete and directly related to the original inquiry. \n",
    "    List each question on a separate line without numbering.\n",
    "                \"\"\"\n",
    "\n",
    "    messages = [\n",
    "        {\n",
    "            \"role\": \"system\",\n",
    "            \"content\": prompt,\n",
    "        },\n",
    "        {\"role\": \"user\", \"content\": query},\n",
    "    ]\n",
    "\n",
    "    response = client.chat.completions.create(\n",
    "        model=model,\n",
    "        messages=messages,\n",
    "    )\n",
    "    content = response.choices[0].message.content\n",
    "    content = content.split(\"\\n\")\n",
    "    return content\n"
   ]
  },
  {
   "cell_type": "code",
   "execution_count": 6,
   "id": "64ea3098",
   "metadata": {},
   "outputs": [],
   "source": [
    "original_query = (\n",
    "    \"What details can you provide about the factors that led to revenue growth?\"\n",
    ")\n",
    "aug_queries = generate_multi_query(original_query)"
   ]
  },
  {
   "cell_type": "code",
   "execution_count": 7,
   "id": "4644c874",
   "metadata": {},
   "outputs": [
    {
     "name": "stdout",
     "output_type": "stream",
     "text": [
      "\n",
      " - What were the key product or service categories contributing to revenue growth?\n",
      "\n",
      " - Did the company explore new markets or expand existing market presence to drive revenue growth?\n",
      "\n",
      " - Were there any strategic partnerships or acquisitions that influenced revenue growth?\n",
      "\n",
      " - Did changes in pricing strategies or promotional activities impact revenue growth?\n",
      "\n",
      " - How did foreign exchange rates or macroeconomic conditions influence revenue growth?\n"
     ]
    }
   ],
   "source": [
    "# 1. First step show the augmented queries\n",
    "for query in aug_queries:\n",
    "    print(\"\\n\", query)"
   ]
  },
  {
   "cell_type": "code",
   "execution_count": 8,
   "id": "ba5acaa3",
   "metadata": {},
   "outputs": [
    {
     "name": "stdout",
     "output_type": "stream",
     "text": [
      "======> \n",
      "\n",
      " ['What details can you provide about the factors that led to revenue growth?', '- What were the key product or service categories contributing to revenue growth?', '- Did the company explore new markets or expand existing market presence to drive revenue growth?', '- Were there any strategic partnerships or acquisitions that influenced revenue growth?', '- Did changes in pricing strategies or promotional activities impact revenue growth?', '- How did foreign exchange rates or macroeconomic conditions influence revenue growth?']\n"
     ]
    }
   ],
   "source": [
    "# 2. concatenate the original query with the augmented queries\n",
    "joint_query = [\n",
    "    original_query\n",
    "] + aug_queries  # original query is in a list because chroma can actually handle multiple queries, so we add it in a list\n",
    "\n",
    "print(\"======> \\n\\n\", joint_query)"
   ]
  },
  {
   "cell_type": "code",
   "execution_count": 9,
   "id": "4097c00e",
   "metadata": {},
   "outputs": [],
   "source": [
    "results = chroma_collection.query(\n",
    "    query_texts=joint_query, n_results=5, include=[\"documents\", \"embeddings\"]\n",
    ")\n",
    "retrieved_documents = results[\"documents\"]"
   ]
  },
  {
   "cell_type": "code",
   "execution_count": 12,
   "id": "44cf6b55",
   "metadata": {},
   "outputs": [
    {
     "data": {
      "text/plain": [
       "[['sales and marketing expenses increased $ 934 million or 4 % driven by 3 points of growth from the nuance and xandr acquisitions and investments in commercial sales, offset in part by a decline in windows advertising. sales and marketing included a favorable foreign currency impact of 2 %. general and administrative general and administrative expenses include payroll, employee benefits, stock - based compensation expense, employee severance expense incurred as part of a corporate program, and other headcount - related expenses associated with ( in millions, except percentages ) 2023 2022 percentage change research and development $ 27, 195 $ 24, 512 11 % as a percent of revenue 13 % 12 % 1ppt ( in millions, except percentages ) 2023 2022 percentage change sales and marketing $ 22, 759 $ 21, 825 4 % as a percent of revenue 11 % 11 % 0ppt ( in millions, except percentages ) 2023 2022 percentage change',\n",
       "  'general and administrative $ 7, 575 $ 5, 900 28 % as a percent of revenue 4 % 3 % 1ppt 35',\n",
       "  'segment revenue and operating income were as follows during the periods presented : no sales to an individual customer or country other than the united states accounted for more than 10 % of revenue for fiscal years 2023, 2022, or 2021. revenue, classified by the major geographic areas in which our customers were located, was as follows : ( a ) includes billings to oems and certain multinational organizations because of the nature of these businesses and the impracticability of determining the geographic source of the revenue. ( in millions ) year ended june 30, 2023 2022 2021 revenue productivity and business processes $ 69, 274 $ 63, 364 $ 53, 915 intelligent cloud 87, 907 74, 965 59, 728 more personal computing 54, 734 59, 941 54, 445 total $ 211, 915 $ 198, 270 $ 168, 088 operating income productivity and business processes $ 34, 189 $ 29, 690 $ 24, 351 intelligent cloud 37, 884 33, 203 26, 471',\n",
       "  'segment results of operations reportable segments fiscal year 2023 compared with fiscal year 2022 productivity and business processes revenue increased $ 5. 9 billion or 9 %. • office commercial products and cloud services revenue increased $ 3. 7 billion or 10 %. office 365 commercial revenue grew 13 % with seat growth of 11 %, driven by small and medium business and frontline worker offerings, as well as growth in revenue per user. office commercial products revenue declined 21 % driven by continued customer shift to cloud offerings. • office consumer products and cloud services revenue increased $ 140 million or 2 %. microsoft 365 consumer subscribers grew 12 % to 67. 0 million. • linkedin revenue increased $ 1. 3 billion or 10 % driven by talent solutions. • dynamics products and cloud services revenue increased $ 750 million or 16 % driven by dynamics 365 growth of 24 %. operating income increased $ 4. 5 billion or 15 %.',\n",
       "  'intelligent cloud revenue increased $ 12. 9 billion or 17 %. • server products and cloud services revenue increased $ 12. 6 billion or 19 % driven by azure and other cloud services. azure and other cloud services revenue grew 29 % driven by growth in our consumption - based services. server products revenue decreased 1 %. • enterprise services revenue increased $ 315 million or 4 % driven by growth in enterprise support services, offset in part by a decline in industry solutions ( formerly microsoft consulting services ). operating income increased $ 4. 7 billion or 14 %. • gross margin increased $ 8. 9 billion or 17 % driven by growth in azure and other cloud services and the change in accounting estimate. gross margin percentage decreased slightly. excluding the impact of the change in accounting estimate, gross margin percentage decreased 3 points driven by sales mix shift to azure and other cloud services and a decline in azure and other cloud services.'],\n",
       " ['segment results of operations reportable segments fiscal year 2023 compared with fiscal year 2022 productivity and business processes revenue increased $ 5. 9 billion or 9 %. • office commercial products and cloud services revenue increased $ 3. 7 billion or 10 %. office 365 commercial revenue grew 13 % with seat growth of 11 %, driven by small and medium business and frontline worker offerings, as well as growth in revenue per user. office commercial products revenue declined 21 % driven by continued customer shift to cloud offerings. • office consumer products and cloud services revenue increased $ 140 million or 2 %. microsoft 365 consumer subscribers grew 12 % to 67. 0 million. • linkedin revenue increased $ 1. 3 billion or 10 % driven by talent solutions. • dynamics products and cloud services revenue increased $ 750 million or 16 % driven by dynamics 365 growth of 24 %. operating income increased $ 4. 5 billion or 15 %.',\n",
       "  'segment revenue and operating income were as follows during the periods presented : no sales to an individual customer or country other than the united states accounted for more than 10 % of revenue for fiscal years 2023, 2022, or 2021. revenue, classified by the major geographic areas in which our customers were located, was as follows : ( a ) includes billings to oems and certain multinational organizations because of the nature of these businesses and the impracticability of determining the geographic source of the revenue. ( in millions ) year ended june 30, 2023 2022 2021 revenue productivity and business processes $ 69, 274 $ 63, 364 $ 53, 915 intelligent cloud 87, 907 74, 965 59, 728 more personal computing 54, 734 59, 941 54, 445 total $ 211, 915 $ 198, 270 $ 168, 088 operating income productivity and business processes $ 34, 189 $ 29, 690 $ 24, 351 intelligent cloud 37, 884 33, 203 26, 471',\n",
       "  'marketing, and selling our other products and services ; and income taxes. highlights from fiscal year 2023 compared with fiscal year 2022 included : • microsoft cloud revenue increased 22 % to $ 111. 6 billion. • office commercial products and cloud services revenue increased 10 % driven by office 365 commercial growth of 13 %. • office consumer products and cloud services revenue increased 2 % and microsoft 365 consumer subscribers increased to 67. 0 million. • linkedin revenue increased 10 %. • dynamics products and cloud services revenue increased 16 % driven by dynamics 365 growth of 24 %. • server products and cloud services revenue increased 19 % driven by azure and other cloud services growth of 29 %. • windows original equipment manufacturer licensing ( “ windows oem ” ) revenue decreased 25 %. • devices revenue decreased 24 %. • windows commercial products and cloud services revenue increased 5 %. • xbox content and services revenue decreased 3 %.',\n",
       "  'revenue growth revenue from windows commercial products and cloud services, comprising volume licensing of the windows operating system, windows cloud services, and other windows commercial offerings devices revenue growth revenue from devices, including surface, hololens, and pc accessories xbox content and services revenue growth revenue from xbox content and services, comprising first - and third - party content ( including games and in - game content ), xbox game pass and other subscriptions, xbox cloud gaming, advertising, third - party disc royalties, and other cloud services search and news advertising revenue ( ex tac ) growth revenue from search and news advertising excluding traffic acquisition costs ( “ tac ” ) paid to bing ads network publishers and news partners ( in millions, except percentages and per share amounts ) 2023 2022 percentage change revenue $ 211, 915 $ 198, 270 7 % gross margin 146, 052 135, 620 8 % operating income 88, 523 83, 383 6 %',\n",
       "  'intelligent cloud revenue increased $ 12. 9 billion or 17 %. • server products and cloud services revenue increased $ 12. 6 billion or 19 % driven by azure and other cloud services. azure and other cloud services revenue grew 29 % driven by growth in our consumption - based services. server products revenue decreased 1 %. • enterprise services revenue increased $ 315 million or 4 % driven by growth in enterprise support services, offset in part by a decline in industry solutions ( formerly microsoft consulting services ). operating income increased $ 4. 7 billion or 14 %. • gross margin increased $ 8. 9 billion or 17 % driven by growth in azure and other cloud services and the change in accounting estimate. gross margin percentage decreased slightly. excluding the impact of the change in accounting estimate, gross margin percentage decreased 3 points driven by sales mix shift to azure and other cloud services and a decline in azure and other cloud services.'],\n",
       " ['segment results of operations reportable segments fiscal year 2023 compared with fiscal year 2022 productivity and business processes revenue increased $ 5. 9 billion or 9 %. • office commercial products and cloud services revenue increased $ 3. 7 billion or 10 %. office 365 commercial revenue grew 13 % with seat growth of 11 %, driven by small and medium business and frontline worker offerings, as well as growth in revenue per user. office commercial products revenue declined 21 % driven by continued customer shift to cloud offerings. • office consumer products and cloud services revenue increased $ 140 million or 2 %. microsoft 365 consumer subscribers grew 12 % to 67. 0 million. • linkedin revenue increased $ 1. 3 billion or 10 % driven by talent solutions. • dynamics products and cloud services revenue increased $ 750 million or 16 % driven by dynamics 365 growth of 24 %. operating income increased $ 4. 5 billion or 15 %.',\n",
       "  'office commercial is designed to increase personal, team, and organizational productivity through a range of products and services. growth depends on our ability to reach new users in new markets such as frontline workers, small and medium businesses, and growth markets, as well as add value to our core product and service offerings to span 17',\n",
       "  'sales and marketing expenses increased $ 934 million or 4 % driven by 3 points of growth from the nuance and xandr acquisitions and investments in commercial sales, offset in part by a decline in windows advertising. sales and marketing included a favorable foreign currency impact of 2 %. general and administrative general and administrative expenses include payroll, employee benefits, stock - based compensation expense, employee severance expense incurred as part of a corporate program, and other headcount - related expenses associated with ( in millions, except percentages ) 2023 2022 percentage change research and development $ 27, 195 $ 24, 512 11 % as a percent of revenue 13 % 12 % 1ppt ( in millions, except percentages ) 2023 2022 percentage change sales and marketing $ 22, 759 $ 21, 825 4 % as a percent of revenue 11 % 11 % 0ppt ( in millions, except percentages ) 2023 2022 percentage change',\n",
       "  'marketing, and selling our other products and services ; and income taxes. highlights from fiscal year 2023 compared with fiscal year 2022 included : • microsoft cloud revenue increased 22 % to $ 111. 6 billion. • office commercial products and cloud services revenue increased 10 % driven by office 365 commercial growth of 13 %. • office consumer products and cloud services revenue increased 2 % and microsoft 365 consumer subscribers increased to 67. 0 million. • linkedin revenue increased 10 %. • dynamics products and cloud services revenue increased 16 % driven by dynamics 365 growth of 24 %. • server products and cloud services revenue increased 19 % driven by azure and other cloud services growth of 29 %. • windows original equipment manufacturer licensing ( “ windows oem ” ) revenue decreased 25 %. • devices revenue decreased 24 %. • windows commercial products and cloud services revenue increased 5 %. • xbox content and services revenue decreased 3 %.',\n",
       "  'intelligent cloud revenue increased $ 12. 9 billion or 17 %. • server products and cloud services revenue increased $ 12. 6 billion or 19 % driven by azure and other cloud services. azure and other cloud services revenue grew 29 % driven by growth in our consumption - based services. server products revenue decreased 1 %. • enterprise services revenue increased $ 315 million or 4 % driven by growth in enterprise support services, offset in part by a decline in industry solutions ( formerly microsoft consulting services ). operating income increased $ 4. 7 billion or 14 %. • gross margin increased $ 8. 9 billion or 17 % driven by growth in azure and other cloud services and the change in accounting estimate. gross margin percentage decreased slightly. excluding the impact of the change in accounting estimate, gross margin percentage decreased 3 points driven by sales mix shift to azure and other cloud services and a decline in azure and other cloud services.'],\n",
       " ['sales and marketing expenses increased $ 934 million or 4 % driven by 3 points of growth from the nuance and xandr acquisitions and investments in commercial sales, offset in part by a decline in windows advertising. sales and marketing included a favorable foreign currency impact of 2 %. general and administrative general and administrative expenses include payroll, employee benefits, stock - based compensation expense, employee severance expense incurred as part of a corporate program, and other headcount - related expenses associated with ( in millions, except percentages ) 2023 2022 percentage change research and development $ 27, 195 $ 24, 512 11 % as a percent of revenue 13 % 12 % 1ppt ( in millions, except percentages ) 2023 2022 percentage change sales and marketing $ 22, 759 $ 21, 825 4 % as a percent of revenue 11 % 11 % 0ppt ( in millions, except percentages ) 2023 2022 percentage change',\n",
       "  'segment results of operations reportable segments fiscal year 2023 compared with fiscal year 2022 productivity and business processes revenue increased $ 5. 9 billion or 9 %. • office commercial products and cloud services revenue increased $ 3. 7 billion or 10 %. office 365 commercial revenue grew 13 % with seat growth of 11 %, driven by small and medium business and frontline worker offerings, as well as growth in revenue per user. office commercial products revenue declined 21 % driven by continued customer shift to cloud offerings. • office consumer products and cloud services revenue increased $ 140 million or 2 %. microsoft 365 consumer subscribers grew 12 % to 67. 0 million. • linkedin revenue increased $ 1. 3 billion or 10 % driven by talent solutions. • dynamics products and cloud services revenue increased $ 750 million or 16 % driven by dynamics 365 growth of 24 %. operating income increased $ 4. 5 billion or 15 %.',\n",
       "  '• gaming revenue decreased $ 764 million or 5 % driven by declines in xbox hardware and xbox content and services. xbox hardware revenue decreased 11 % driven by lower volume and price of consoles sold. xbox content and services revenue decreased 3 % driven by a decline in first - party content, offset in part by growth in xbox game pass. • search and news advertising revenue increased $ 617 million or 5 %. search and news advertising revenue excluding traffic acquisition costs increased 11 % driven by higher search volume and the xandr acquisition. operating income decreased $ 4. 0 billion or 20 %. • gross margin decreased $ 4. 2 billion or 13 % driven by declines in windows and devices. gross margin percentage decreased driven by a decline in devices. • operating expenses decreased $ 195 million or 2 % driven by a decline in devices, offset in part by investments in search and news advertising, including 2 points of growth from the xandr acquisition.',\n",
       "  'segment revenue and operating income were as follows during the periods presented : no sales to an individual customer or country other than the united states accounted for more than 10 % of revenue for fiscal years 2023, 2022, or 2021. revenue, classified by the major geographic areas in which our customers were located, was as follows : ( a ) includes billings to oems and certain multinational organizations because of the nature of these businesses and the impracticability of determining the geographic source of the revenue. ( in millions ) year ended june 30, 2023 2022 2021 revenue productivity and business processes $ 69, 274 $ 63, 364 $ 53, 915 intelligent cloud 87, 907 74, 965 59, 728 more personal computing 54, 734 59, 941 54, 445 total $ 211, 915 $ 198, 270 $ 168, 088 operating income productivity and business processes $ 34, 189 $ 29, 690 $ 24, 351 intelligent cloud 37, 884 33, 203 26, 471',\n",
       "  'intelligent cloud revenue increased $ 12. 9 billion or 17 %. • server products and cloud services revenue increased $ 12. 6 billion or 19 % driven by azure and other cloud services. azure and other cloud services revenue grew 29 % driven by growth in our consumption - based services. server products revenue decreased 1 %. • enterprise services revenue increased $ 315 million or 4 % driven by growth in enterprise support services, offset in part by a decline in industry solutions ( formerly microsoft consulting services ). operating income increased $ 4. 7 billion or 14 %. • gross margin increased $ 8. 9 billion or 17 % driven by growth in azure and other cloud services and the change in accounting estimate. gross margin percentage decreased slightly. excluding the impact of the change in accounting estimate, gross margin percentage decreased 3 points driven by sales mix shift to azure and other cloud services and a decline in azure and other cloud services.'],\n",
       " ['sales and marketing expenses increased $ 934 million or 4 % driven by 3 points of growth from the nuance and xandr acquisitions and investments in commercial sales, offset in part by a decline in windows advertising. sales and marketing included a favorable foreign currency impact of 2 %. general and administrative general and administrative expenses include payroll, employee benefits, stock - based compensation expense, employee severance expense incurred as part of a corporate program, and other headcount - related expenses associated with ( in millions, except percentages ) 2023 2022 percentage change research and development $ 27, 195 $ 24, 512 11 % as a percent of revenue 13 % 12 % 1ppt ( in millions, except percentages ) 2023 2022 percentage change sales and marketing $ 22, 759 $ 21, 825 4 % as a percent of revenue 11 % 11 % 0ppt ( in millions, except percentages ) 2023 2022 percentage change',\n",
       "  'segment results of operations reportable segments fiscal year 2023 compared with fiscal year 2022 productivity and business processes revenue increased $ 5. 9 billion or 9 %. • office commercial products and cloud services revenue increased $ 3. 7 billion or 10 %. office 365 commercial revenue grew 13 % with seat growth of 11 %, driven by small and medium business and frontline worker offerings, as well as growth in revenue per user. office commercial products revenue declined 21 % driven by continued customer shift to cloud offerings. • office consumer products and cloud services revenue increased $ 140 million or 2 %. microsoft 365 consumer subscribers grew 12 % to 67. 0 million. • linkedin revenue increased $ 1. 3 billion or 10 % driven by talent solutions. • dynamics products and cloud services revenue increased $ 750 million or 16 % driven by dynamics 365 growth of 24 %. operating income increased $ 4. 5 billion or 15 %.',\n",
       "  '• gaming revenue decreased $ 764 million or 5 % driven by declines in xbox hardware and xbox content and services. xbox hardware revenue decreased 11 % driven by lower volume and price of consoles sold. xbox content and services revenue decreased 3 % driven by a decline in first - party content, offset in part by growth in xbox game pass. • search and news advertising revenue increased $ 617 million or 5 %. search and news advertising revenue excluding traffic acquisition costs increased 11 % driven by higher search volume and the xandr acquisition. operating income decreased $ 4. 0 billion or 20 %. • gross margin decreased $ 4. 2 billion or 13 % driven by declines in windows and devices. gross margin percentage decreased driven by a decline in devices. • operating expenses decreased $ 195 million or 2 % driven by a decline in devices, offset in part by investments in search and news advertising, including 2 points of growth from the xandr acquisition.',\n",
       "  'marketing, and selling our other products and services ; and income taxes. highlights from fiscal year 2023 compared with fiscal year 2022 included : • microsoft cloud revenue increased 22 % to $ 111. 6 billion. • office commercial products and cloud services revenue increased 10 % driven by office 365 commercial growth of 13 %. • office consumer products and cloud services revenue increased 2 % and microsoft 365 consumer subscribers increased to 67. 0 million. • linkedin revenue increased 10 %. • dynamics products and cloud services revenue increased 16 % driven by dynamics 365 growth of 24 %. • server products and cloud services revenue increased 19 % driven by azure and other cloud services growth of 29 %. • windows original equipment manufacturer licensing ( “ windows oem ” ) revenue decreased 25 %. • devices revenue decreased 24 %. • windows commercial products and cloud services revenue increased 5 %. • xbox content and services revenue decreased 3 %.',\n",
       "  'intelligent cloud revenue increased $ 12. 9 billion or 17 %. • server products and cloud services revenue increased $ 12. 6 billion or 19 % driven by azure and other cloud services. azure and other cloud services revenue grew 29 % driven by growth in our consumption - based services. server products revenue decreased 1 %. • enterprise services revenue increased $ 315 million or 4 % driven by growth in enterprise support services, offset in part by a decline in industry solutions ( formerly microsoft consulting services ). operating income increased $ 4. 7 billion or 14 %. • gross margin increased $ 8. 9 billion or 17 % driven by growth in azure and other cloud services and the change in accounting estimate. gross margin percentage decreased slightly. excluding the impact of the change in accounting estimate, gross margin percentage decreased 3 points driven by sales mix shift to azure and other cloud services and a decline in azure and other cloud services.'],\n",
       " ['revenue, gross margin, and operating income included an unfavorable foreign currency impact of 3 %, 4 %, and 6 %, respectively. operating expenses included a favorable foreign currency impact of 2 %. 34',\n",
       "  'our effective tax rate was lower than the u. s. federal statutory rate, primarily due to earnings taxed at lower rates in foreign jurisdictions resulting from producing and distributing our products and services through our foreign regional operations center in ireland. the mix of income before income taxes between the u. s. and foreign countries impacted our effective tax rate as a result of the geographic distribution of, and customer demand for, our products and services. in fiscal year 2023, our u. s. income before income taxes was $ 52. 9 billion and our foreign income before income taxes was $ 36. 4 billion. in fiscal year 2022, our u. s. income before income taxes was $ 47. 8 billion and our foreign income before income taxes was $ 35. 9 billion. uncertain tax positions we settled a portion of the internal revenue service ( “ irs ” ) audit for tax years 2004 to 2006 in fiscal year 2011. in',\n",
       "  'refer to accompanying notes. maturities of investments 33, 510 16, 451 51, 792 sales of investments 14, 354 28, 443 14, 008 other, net ( 3, 116 ) ( 2, 825 ) ( 922 ) net cash used in investing ( 22, 680 ) ( 30, 311 ) ( 27, 577 ) effect of foreign exchange rates on cash and cash equivalents ( 194 ) ( 141 ) ( 29 ) net change in cash and cash equivalents 20, 773 ( 293 ) 648 cash and cash equivalents, beginning of period 13, 931 14, 224 13, 576 cash and cash equivalents, end of period $ 34, 704 $ 13, 931 $ 14, 224 ( in millions ) 55',\n",
       "  'gains ( losses ), net of tax, on derivative instruments recognized in our consolidated comprehensive income statements were as follows : note 6 — inventories the components of inventories were as follows : ( in millions ) year ended june 30, 2023 2022 2021 designated as cash flow hedging instruments foreign exchange contracts included in effectiveness assessment $ 34 $ ( 57 ) $ 34 ( in millions ) june 30, 2023 2022 raw materials $ 709 $ 1, 144 work in process 23 82 finished goods 1, 768 2, 516 total $ 2, 500 $ 3, 742 76',\n",
       "  'revenue, gross margin, and operating income included an unfavorable foreign currency impact of 4 %, 4 %, and 6 %, respectively. cost of revenue and operating expenses both included a favorable foreign currency impact of 2 %. current year gross margin, operating income, net income, and diluted eps were negatively impacted by the q2 charge, which resulted in decreases of $ 152 million, $ 1. 2 billion, $ 946 million, and $ 0. 13, respectively. prior year net income and diluted eps were positively impacted by the net tax benefit related to the transfer of intangible properties, which resulted in an increase to net income and diluted eps of $ 3. 3 billion and $ 0. 44, respectively. 32']]"
      ]
     },
     "execution_count": 12,
     "metadata": {},
     "output_type": "execute_result"
    }
   ],
   "source": [
    "retrieved_documents"
   ]
  },
  {
   "cell_type": "code",
   "execution_count": 13,
   "id": "8e0dad3a",
   "metadata": {},
   "outputs": [],
   "source": [
    "# Deduplicate the retrieved documents\n",
    "unique_documents = set()\n",
    "for documents in retrieved_documents:\n",
    "    for document in documents:\n",
    "        unique_documents.add(document)"
   ]
  },
  {
   "cell_type": "code",
   "execution_count": 14,
   "id": "cc55ca4f",
   "metadata": {},
   "outputs": [
    {
     "data": {
      "text/plain": [
       "{'gains ( losses ), net of tax, on derivative instruments recognized in our consolidated comprehensive income statements were as follows : note 6 — inventories the components of inventories were as follows : ( in millions ) year ended june 30, 2023 2022 2021 designated as cash flow hedging instruments foreign exchange contracts included in effectiveness assessment $ 34 $ ( 57 ) $ 34 ( in millions ) june 30, 2023 2022 raw materials $ 709 $ 1, 144 work in process 23 82 finished goods 1, 768 2, 516 total $ 2, 500 $ 3, 742 76',\n",
       " 'general and administrative $ 7, 575 $ 5, 900 28 % as a percent of revenue 4 % 3 % 1ppt 35',\n",
       " 'intelligent cloud revenue increased $ 12. 9 billion or 17 %. • server products and cloud services revenue increased $ 12. 6 billion or 19 % driven by azure and other cloud services. azure and other cloud services revenue grew 29 % driven by growth in our consumption - based services. server products revenue decreased 1 %. • enterprise services revenue increased $ 315 million or 4 % driven by growth in enterprise support services, offset in part by a decline in industry solutions ( formerly microsoft consulting services ). operating income increased $ 4. 7 billion or 14 %. • gross margin increased $ 8. 9 billion or 17 % driven by growth in azure and other cloud services and the change in accounting estimate. gross margin percentage decreased slightly. excluding the impact of the change in accounting estimate, gross margin percentage decreased 3 points driven by sales mix shift to azure and other cloud services and a decline in azure and other cloud services.',\n",
       " 'marketing, and selling our other products and services ; and income taxes. highlights from fiscal year 2023 compared with fiscal year 2022 included : • microsoft cloud revenue increased 22 % to $ 111. 6 billion. • office commercial products and cloud services revenue increased 10 % driven by office 365 commercial growth of 13 %. • office consumer products and cloud services revenue increased 2 % and microsoft 365 consumer subscribers increased to 67. 0 million. • linkedin revenue increased 10 %. • dynamics products and cloud services revenue increased 16 % driven by dynamics 365 growth of 24 %. • server products and cloud services revenue increased 19 % driven by azure and other cloud services growth of 29 %. • windows original equipment manufacturer licensing ( “ windows oem ” ) revenue decreased 25 %. • devices revenue decreased 24 %. • windows commercial products and cloud services revenue increased 5 %. • xbox content and services revenue decreased 3 %.',\n",
       " 'office commercial is designed to increase personal, team, and organizational productivity through a range of products and services. growth depends on our ability to reach new users in new markets such as frontline workers, small and medium businesses, and growth markets, as well as add value to our core product and service offerings to span 17',\n",
       " 'our effective tax rate was lower than the u. s. federal statutory rate, primarily due to earnings taxed at lower rates in foreign jurisdictions resulting from producing and distributing our products and services through our foreign regional operations center in ireland. the mix of income before income taxes between the u. s. and foreign countries impacted our effective tax rate as a result of the geographic distribution of, and customer demand for, our products and services. in fiscal year 2023, our u. s. income before income taxes was $ 52. 9 billion and our foreign income before income taxes was $ 36. 4 billion. in fiscal year 2022, our u. s. income before income taxes was $ 47. 8 billion and our foreign income before income taxes was $ 35. 9 billion. uncertain tax positions we settled a portion of the internal revenue service ( “ irs ” ) audit for tax years 2004 to 2006 in fiscal year 2011. in',\n",
       " 'refer to accompanying notes. maturities of investments 33, 510 16, 451 51, 792 sales of investments 14, 354 28, 443 14, 008 other, net ( 3, 116 ) ( 2, 825 ) ( 922 ) net cash used in investing ( 22, 680 ) ( 30, 311 ) ( 27, 577 ) effect of foreign exchange rates on cash and cash equivalents ( 194 ) ( 141 ) ( 29 ) net change in cash and cash equivalents 20, 773 ( 293 ) 648 cash and cash equivalents, beginning of period 13, 931 14, 224 13, 576 cash and cash equivalents, end of period $ 34, 704 $ 13, 931 $ 14, 224 ( in millions ) 55',\n",
       " 'revenue growth revenue from windows commercial products and cloud services, comprising volume licensing of the windows operating system, windows cloud services, and other windows commercial offerings devices revenue growth revenue from devices, including surface, hololens, and pc accessories xbox content and services revenue growth revenue from xbox content and services, comprising first - and third - party content ( including games and in - game content ), xbox game pass and other subscriptions, xbox cloud gaming, advertising, third - party disc royalties, and other cloud services search and news advertising revenue ( ex tac ) growth revenue from search and news advertising excluding traffic acquisition costs ( “ tac ” ) paid to bing ads network publishers and news partners ( in millions, except percentages and per share amounts ) 2023 2022 percentage change revenue $ 211, 915 $ 198, 270 7 % gross margin 146, 052 135, 620 8 % operating income 88, 523 83, 383 6 %',\n",
       " 'revenue, gross margin, and operating income included an unfavorable foreign currency impact of 3 %, 4 %, and 6 %, respectively. operating expenses included a favorable foreign currency impact of 2 %. 34',\n",
       " 'revenue, gross margin, and operating income included an unfavorable foreign currency impact of 4 %, 4 %, and 6 %, respectively. cost of revenue and operating expenses both included a favorable foreign currency impact of 2 %. current year gross margin, operating income, net income, and diluted eps were negatively impacted by the q2 charge, which resulted in decreases of $ 152 million, $ 1. 2 billion, $ 946 million, and $ 0. 13, respectively. prior year net income and diluted eps were positively impacted by the net tax benefit related to the transfer of intangible properties, which resulted in an increase to net income and diluted eps of $ 3. 3 billion and $ 0. 44, respectively. 32',\n",
       " 'sales and marketing expenses increased $ 934 million or 4 % driven by 3 points of growth from the nuance and xandr acquisitions and investments in commercial sales, offset in part by a decline in windows advertising. sales and marketing included a favorable foreign currency impact of 2 %. general and administrative general and administrative expenses include payroll, employee benefits, stock - based compensation expense, employee severance expense incurred as part of a corporate program, and other headcount - related expenses associated with ( in millions, except percentages ) 2023 2022 percentage change research and development $ 27, 195 $ 24, 512 11 % as a percent of revenue 13 % 12 % 1ppt ( in millions, except percentages ) 2023 2022 percentage change sales and marketing $ 22, 759 $ 21, 825 4 % as a percent of revenue 11 % 11 % 0ppt ( in millions, except percentages ) 2023 2022 percentage change',\n",
       " 'segment results of operations reportable segments fiscal year 2023 compared with fiscal year 2022 productivity and business processes revenue increased $ 5. 9 billion or 9 %. • office commercial products and cloud services revenue increased $ 3. 7 billion or 10 %. office 365 commercial revenue grew 13 % with seat growth of 11 %, driven by small and medium business and frontline worker offerings, as well as growth in revenue per user. office commercial products revenue declined 21 % driven by continued customer shift to cloud offerings. • office consumer products and cloud services revenue increased $ 140 million or 2 %. microsoft 365 consumer subscribers grew 12 % to 67. 0 million. • linkedin revenue increased $ 1. 3 billion or 10 % driven by talent solutions. • dynamics products and cloud services revenue increased $ 750 million or 16 % driven by dynamics 365 growth of 24 %. operating income increased $ 4. 5 billion or 15 %.',\n",
       " 'segment revenue and operating income were as follows during the periods presented : no sales to an individual customer or country other than the united states accounted for more than 10 % of revenue for fiscal years 2023, 2022, or 2021. revenue, classified by the major geographic areas in which our customers were located, was as follows : ( a ) includes billings to oems and certain multinational organizations because of the nature of these businesses and the impracticability of determining the geographic source of the revenue. ( in millions ) year ended june 30, 2023 2022 2021 revenue productivity and business processes $ 69, 274 $ 63, 364 $ 53, 915 intelligent cloud 87, 907 74, 965 59, 728 more personal computing 54, 734 59, 941 54, 445 total $ 211, 915 $ 198, 270 $ 168, 088 operating income productivity and business processes $ 34, 189 $ 29, 690 $ 24, 351 intelligent cloud 37, 884 33, 203 26, 471',\n",
       " '• gaming revenue decreased $ 764 million or 5 % driven by declines in xbox hardware and xbox content and services. xbox hardware revenue decreased 11 % driven by lower volume and price of consoles sold. xbox content and services revenue decreased 3 % driven by a decline in first - party content, offset in part by growth in xbox game pass. • search and news advertising revenue increased $ 617 million or 5 %. search and news advertising revenue excluding traffic acquisition costs increased 11 % driven by higher search volume and the xandr acquisition. operating income decreased $ 4. 0 billion or 20 %. • gross margin decreased $ 4. 2 billion or 13 % driven by declines in windows and devices. gross margin percentage decreased driven by a decline in devices. • operating expenses decreased $ 195 million or 2 % driven by a decline in devices, offset in part by investments in search and news advertising, including 2 points of growth from the xandr acquisition.'}"
      ]
     },
     "execution_count": 14,
     "metadata": {},
     "output_type": "execute_result"
    }
   ],
   "source": [
    "unique_documents"
   ]
  },
  {
   "cell_type": "code",
   "execution_count": 15,
   "id": "25e23850",
   "metadata": {},
   "outputs": [
    {
     "name": "stdout",
     "output_type": "stream",
     "text": [
      "Query: What details can you provide about the factors that led to revenue growth?\n",
      "\n",
      "Results:\n",
      "sales and marketing expenses increased $ 934 million or 4 % driven by 3 points of growt\n",
      "h from the nuance and xandr acquisitions and investments in commercial sales, offset in\n",
      " part by a decline in windows advertising. sales and marketing included a favorable for\n",
      "eign currency impact of 2 %. general and administrative general and administrative expe\n",
      "nses include payroll, employee benefits, stock - based compensation expense, employee s\n",
      "everance expense incurred as part of a corporate program, and other headcount - related\n",
      " expenses associated with ( in millions, except percentages ) 2023 2022 percentage chan\n",
      "ge research and development $ 27, 195 $ 24, 512 11 % as a percent of revenue 13 % 12 % \n",
      "1ppt ( in millions, except percentages ) 2023 2022 percentage change sales and marketin\n",
      "g $ 22, 759 $ 21, 825 4 % as a percent of revenue 11 % 11 % 0ppt ( in millions, except \n",
      "percentages ) 2023 2022 percentage change\n",
      "\n",
      "general and administrative $ 7, 575 $ 5, 900 28 % as a percent of revenue 4 % 3 % 1ppt \n",
      "35\n",
      "\n",
      "segment revenue and operating income were as follows during the periods presented : no \n",
      "sales to an individual customer or country other than the united states accounted for m\n",
      "ore than 10 % of revenue for fiscal years 2023, 2022, or 2021. revenue, classified by t\n",
      "he major geographic areas in which our customers were located, was as follows : ( a ) i\n",
      "ncludes billings to oems and certain multinational organizations because of the nature \n",
      "of these businesses and the impracticability of determining the geographic source of th\n",
      "e revenue. ( in millions ) year ended june 30, 2023 2022 2021 revenue productivity and \n",
      "business processes $ 69, 274 $ 63, 364 $ 53, 915 intelligent cloud 87, 907 74, 965 59, \n",
      "728 more personal computing 54, 734 59, 941 54, 445 total $ 211, 915 $ 198, 270 $ 168, \n",
      "088 operating income productivity and business processes $ 34, 189 $ 29, 690 $ 24, 351 \n",
      "intelligent cloud 37, 884 33, 203 26, 471\n",
      "\n",
      "segment results of operations reportable segments fiscal year 2023 compared with fiscal\n",
      " year 2022 productivity and business processes revenue increased $ 5. 9 billion or 9 %.\n",
      " • office commercial products and cloud services revenue increased $ 3. 7 billion or 10\n",
      " %. office 365 commercial revenue grew 13 % with seat growth of 11 %, driven by small a\n",
      "nd medium business and frontline worker offerings, as well as growth in revenue per use\n",
      "r. office commercial products revenue declined 21 % driven by continued customer shift \n",
      "to cloud offerings. • office consumer products and cloud services revenue increased $ 1\n",
      "40 million or 2 %. microsoft 365 consumer subscribers grew 12 % to 67. 0 million. • lin\n",
      "kedin revenue increased $ 1. 3 billion or 10 % driven by talent solutions. • dynamics p\n",
      "roducts and cloud services revenue increased $ 750 million or 16 % driven by dynamics 3\n",
      "65 growth of 24 %. operating income increased $ 4. 5 billion or 15 %.\n",
      "\n",
      "intelligent cloud revenue increased $ 12. 9 billion or 17 %. • server products and clou\n",
      "d services revenue increased $ 12. 6 billion or 19 % driven by azure and other cloud se\n",
      "rvices. azure and other cloud services revenue grew 29 % driven by growth in our consum\n",
      "ption - based services. server products revenue decreased 1 %. • enterprise services re\n",
      "venue increased $ 315 million or 4 % driven by growth in enterprise support services, o\n",
      "ffset in part by a decline in industry solutions ( formerly microsoft consulting servic\n",
      "es ). operating income increased $ 4. 7 billion or 14 %. • gross margin increased $ 8. \n",
      "9 billion or 17 % driven by growth in azure and other cloud services and the change in \n",
      "accounting estimate. gross margin percentage decreased slightly. excluding the impact o\n",
      "f the change in accounting estimate, gross margin percentage decreased 3 points driven \n",
      "by sales mix shift to azure and other cloud services and a decline in azure and other c\n",
      "loud services.\n",
      "\n",
      "----------------------------------------------------------------------------------------------------\n",
      "Query: - What were the key product or service categories contributing to revenue growth?\n",
      "\n",
      "Results:\n",
      "segment results of operations reportable segments fiscal year 2023 compared with fiscal\n",
      " year 2022 productivity and business processes revenue increased $ 5. 9 billion or 9 %.\n",
      " • office commercial products and cloud services revenue increased $ 3. 7 billion or 10\n",
      " %. office 365 commercial revenue grew 13 % with seat growth of 11 %, driven by small a\n",
      "nd medium business and frontline worker offerings, as well as growth in revenue per use\n",
      "r. office commercial products revenue declined 21 % driven by continued customer shift \n",
      "to cloud offerings. • office consumer products and cloud services revenue increased $ 1\n",
      "40 million or 2 %. microsoft 365 consumer subscribers grew 12 % to 67. 0 million. • lin\n",
      "kedin revenue increased $ 1. 3 billion or 10 % driven by talent solutions. • dynamics p\n",
      "roducts and cloud services revenue increased $ 750 million or 16 % driven by dynamics 3\n",
      "65 growth of 24 %. operating income increased $ 4. 5 billion or 15 %.\n",
      "\n",
      "segment revenue and operating income were as follows during the periods presented : no \n",
      "sales to an individual customer or country other than the united states accounted for m\n",
      "ore than 10 % of revenue for fiscal years 2023, 2022, or 2021. revenue, classified by t\n",
      "he major geographic areas in which our customers were located, was as follows : ( a ) i\n",
      "ncludes billings to oems and certain multinational organizations because of the nature \n",
      "of these businesses and the impracticability of determining the geographic source of th\n",
      "e revenue. ( in millions ) year ended june 30, 2023 2022 2021 revenue productivity and \n",
      "business processes $ 69, 274 $ 63, 364 $ 53, 915 intelligent cloud 87, 907 74, 965 59, \n",
      "728 more personal computing 54, 734 59, 941 54, 445 total $ 211, 915 $ 198, 270 $ 168, \n",
      "088 operating income productivity and business processes $ 34, 189 $ 29, 690 $ 24, 351 \n",
      "intelligent cloud 37, 884 33, 203 26, 471\n",
      "\n",
      "marketing, and selling our other products and services ; and income taxes. highlights f\n",
      "rom fiscal year 2023 compared with fiscal year 2022 included : • microsoft cloud revenu\n",
      "e increased 22 % to $ 111. 6 billion. • office commercial products and cloud services r\n",
      "evenue increased 10 % driven by office 365 commercial growth of 13 %. • office consumer\n",
      " products and cloud services revenue increased 2 % and microsoft 365 consumer subscribe\n",
      "rs increased to 67. 0 million. • linkedin revenue increased 10 %. • dynamics products a\n",
      "nd cloud services revenue increased 16 % driven by dynamics 365 growth of 24 %. • serve\n",
      "r products and cloud services revenue increased 19 % driven by azure and other cloud se\n",
      "rvices growth of 29 %. • windows original equipment manufacturer licensing ( “ windows \n",
      "oem ” ) revenue decreased 25 %. • devices revenue decreased 24 %. • windows commercial \n",
      "products and cloud services revenue increased 5 %. • xbox content and services revenue \n",
      "decreased 3 %.\n",
      "\n",
      "revenue growth revenue from windows commercial products and cloud services, comprising \n",
      "volume licensing of the windows operating system, windows cloud services, and other win\n",
      "dows commercial offerings devices revenue growth revenue from devices, including surfac\n",
      "e, hololens, and pc accessories xbox content and services revenue growth revenue from x\n",
      "box content and services, comprising first - and third - party content ( including game\n",
      "s and in - game content ), xbox game pass and other subscriptions, xbox cloud gaming, a\n",
      "dvertising, third - party disc royalties, and other cloud services search and news adve\n",
      "rtising revenue ( ex tac ) growth revenue from search and news advertising excluding tr\n",
      "affic acquisition costs ( “ tac ” ) paid to bing ads network publishers and news partne\n",
      "rs ( in millions, except percentages and per share amounts ) 2023 2022 percentage chang\n",
      "e revenue $ 211, 915 $ 198, 270 7 % gross margin 146, 052 135, 620 8 % operating income\n",
      " 88, 523 83, 383 6 %\n",
      "\n",
      "intelligent cloud revenue increased $ 12. 9 billion or 17 %. • server products and clou\n",
      "d services revenue increased $ 12. 6 billion or 19 % driven by azure and other cloud se\n",
      "rvices. azure and other cloud services revenue grew 29 % driven by growth in our consum\n",
      "ption - based services. server products revenue decreased 1 %. • enterprise services re\n",
      "venue increased $ 315 million or 4 % driven by growth in enterprise support services, o\n",
      "ffset in part by a decline in industry solutions ( formerly microsoft consulting servic\n",
      "es ). operating income increased $ 4. 7 billion or 14 %. • gross margin increased $ 8. \n",
      "9 billion or 17 % driven by growth in azure and other cloud services and the change in \n",
      "accounting estimate. gross margin percentage decreased slightly. excluding the impact o\n",
      "f the change in accounting estimate, gross margin percentage decreased 3 points driven \n",
      "by sales mix shift to azure and other cloud services and a decline in azure and other c\n",
      "loud services.\n",
      "\n",
      "----------------------------------------------------------------------------------------------------\n",
      "Query: - Did the company explore new markets or expand existing market presence to drive revenue growth?\n",
      "\n",
      "Results:\n",
      "segment results of operations reportable segments fiscal year 2023 compared with fiscal\n",
      " year 2022 productivity and business processes revenue increased $ 5. 9 billion or 9 %.\n",
      " • office commercial products and cloud services revenue increased $ 3. 7 billion or 10\n",
      " %. office 365 commercial revenue grew 13 % with seat growth of 11 %, driven by small a\n",
      "nd medium business and frontline worker offerings, as well as growth in revenue per use\n",
      "r. office commercial products revenue declined 21 % driven by continued customer shift \n",
      "to cloud offerings. • office consumer products and cloud services revenue increased $ 1\n",
      "40 million or 2 %. microsoft 365 consumer subscribers grew 12 % to 67. 0 million. • lin\n",
      "kedin revenue increased $ 1. 3 billion or 10 % driven by talent solutions. • dynamics p\n",
      "roducts and cloud services revenue increased $ 750 million or 16 % driven by dynamics 3\n",
      "65 growth of 24 %. operating income increased $ 4. 5 billion or 15 %.\n",
      "\n",
      "office commercial is designed to increase personal, team, and organizational productivi\n",
      "ty through a range of products and services. growth depends on our ability to reach new\n",
      " users in new markets such as frontline workers, small and medium businesses, and growt\n",
      "h markets, as well as add value to our core product and service offerings to span 17\n",
      "\n",
      "sales and marketing expenses increased $ 934 million or 4 % driven by 3 points of growt\n",
      "h from the nuance and xandr acquisitions and investments in commercial sales, offset in\n",
      " part by a decline in windows advertising. sales and marketing included a favorable for\n",
      "eign currency impact of 2 %. general and administrative general and administrative expe\n",
      "nses include payroll, employee benefits, stock - based compensation expense, employee s\n",
      "everance expense incurred as part of a corporate program, and other headcount - related\n",
      " expenses associated with ( in millions, except percentages ) 2023 2022 percentage chan\n",
      "ge research and development $ 27, 195 $ 24, 512 11 % as a percent of revenue 13 % 12 % \n",
      "1ppt ( in millions, except percentages ) 2023 2022 percentage change sales and marketin\n",
      "g $ 22, 759 $ 21, 825 4 % as a percent of revenue 11 % 11 % 0ppt ( in millions, except \n",
      "percentages ) 2023 2022 percentage change\n",
      "\n",
      "marketing, and selling our other products and services ; and income taxes. highlights f\n",
      "rom fiscal year 2023 compared with fiscal year 2022 included : • microsoft cloud revenu\n",
      "e increased 22 % to $ 111. 6 billion. • office commercial products and cloud services r\n",
      "evenue increased 10 % driven by office 365 commercial growth of 13 %. • office consumer\n",
      " products and cloud services revenue increased 2 % and microsoft 365 consumer subscribe\n",
      "rs increased to 67. 0 million. • linkedin revenue increased 10 %. • dynamics products a\n",
      "nd cloud services revenue increased 16 % driven by dynamics 365 growth of 24 %. • serve\n",
      "r products and cloud services revenue increased 19 % driven by azure and other cloud se\n",
      "rvices growth of 29 %. • windows original equipment manufacturer licensing ( “ windows \n",
      "oem ” ) revenue decreased 25 %. • devices revenue decreased 24 %. • windows commercial \n",
      "products and cloud services revenue increased 5 %. • xbox content and services revenue \n",
      "decreased 3 %.\n",
      "\n",
      "intelligent cloud revenue increased $ 12. 9 billion or 17 %. • server products and clou\n",
      "d services revenue increased $ 12. 6 billion or 19 % driven by azure and other cloud se\n",
      "rvices. azure and other cloud services revenue grew 29 % driven by growth in our consum\n",
      "ption - based services. server products revenue decreased 1 %. • enterprise services re\n",
      "venue increased $ 315 million or 4 % driven by growth in enterprise support services, o\n",
      "ffset in part by a decline in industry solutions ( formerly microsoft consulting servic\n",
      "es ). operating income increased $ 4. 7 billion or 14 %. • gross margin increased $ 8. \n",
      "9 billion or 17 % driven by growth in azure and other cloud services and the change in \n",
      "accounting estimate. gross margin percentage decreased slightly. excluding the impact o\n",
      "f the change in accounting estimate, gross margin percentage decreased 3 points driven \n",
      "by sales mix shift to azure and other cloud services and a decline in azure and other c\n",
      "loud services.\n",
      "\n",
      "----------------------------------------------------------------------------------------------------\n",
      "Query: - Were there any strategic partnerships or acquisitions that influenced revenue growth?\n",
      "\n",
      "Results:\n",
      "sales and marketing expenses increased $ 934 million or 4 % driven by 3 points of growt\n",
      "h from the nuance and xandr acquisitions and investments in commercial sales, offset in\n",
      " part by a decline in windows advertising. sales and marketing included a favorable for\n",
      "eign currency impact of 2 %. general and administrative general and administrative expe\n",
      "nses include payroll, employee benefits, stock - based compensation expense, employee s\n",
      "everance expense incurred as part of a corporate program, and other headcount - related\n",
      " expenses associated with ( in millions, except percentages ) 2023 2022 percentage chan\n",
      "ge research and development $ 27, 195 $ 24, 512 11 % as a percent of revenue 13 % 12 % \n",
      "1ppt ( in millions, except percentages ) 2023 2022 percentage change sales and marketin\n",
      "g $ 22, 759 $ 21, 825 4 % as a percent of revenue 11 % 11 % 0ppt ( in millions, except \n",
      "percentages ) 2023 2022 percentage change\n",
      "\n",
      "segment results of operations reportable segments fiscal year 2023 compared with fiscal\n",
      " year 2022 productivity and business processes revenue increased $ 5. 9 billion or 9 %.\n",
      " • office commercial products and cloud services revenue increased $ 3. 7 billion or 10\n",
      " %. office 365 commercial revenue grew 13 % with seat growth of 11 %, driven by small a\n",
      "nd medium business and frontline worker offerings, as well as growth in revenue per use\n",
      "r. office commercial products revenue declined 21 % driven by continued customer shift \n",
      "to cloud offerings. • office consumer products and cloud services revenue increased $ 1\n",
      "40 million or 2 %. microsoft 365 consumer subscribers grew 12 % to 67. 0 million. • lin\n",
      "kedin revenue increased $ 1. 3 billion or 10 % driven by talent solutions. • dynamics p\n",
      "roducts and cloud services revenue increased $ 750 million or 16 % driven by dynamics 3\n",
      "65 growth of 24 %. operating income increased $ 4. 5 billion or 15 %.\n",
      "\n",
      "• gaming revenue decreased $ 764 million or 5 % driven by declines in xbox hardware and\n",
      " xbox content and services. xbox hardware revenue decreased 11 % driven by lower volume\n",
      " and price of consoles sold. xbox content and services revenue decreased 3 % driven by \n",
      "a decline in first - party content, offset in part by growth in xbox game pass. • searc\n",
      "h and news advertising revenue increased $ 617 million or 5 %. search and news advertis\n",
      "ing revenue excluding traffic acquisition costs increased 11 % driven by higher search \n",
      "volume and the xandr acquisition. operating income decreased $ 4. 0 billion or 20 %. • \n",
      "gross margin decreased $ 4. 2 billion or 13 % driven by declines in windows and devices\n",
      ". gross margin percentage decreased driven by a decline in devices. • operating expense\n",
      "s decreased $ 195 million or 2 % driven by a decline in devices, offset in part by inve\n",
      "stments in search and news advertising, including 2 points of growth from the xandr acq\n",
      "uisition.\n",
      "\n",
      "segment revenue and operating income were as follows during the periods presented : no \n",
      "sales to an individual customer or country other than the united states accounted for m\n",
      "ore than 10 % of revenue for fiscal years 2023, 2022, or 2021. revenue, classified by t\n",
      "he major geographic areas in which our customers were located, was as follows : ( a ) i\n",
      "ncludes billings to oems and certain multinational organizations because of the nature \n",
      "of these businesses and the impracticability of determining the geographic source of th\n",
      "e revenue. ( in millions ) year ended june 30, 2023 2022 2021 revenue productivity and \n",
      "business processes $ 69, 274 $ 63, 364 $ 53, 915 intelligent cloud 87, 907 74, 965 59, \n",
      "728 more personal computing 54, 734 59, 941 54, 445 total $ 211, 915 $ 198, 270 $ 168, \n",
      "088 operating income productivity and business processes $ 34, 189 $ 29, 690 $ 24, 351 \n",
      "intelligent cloud 37, 884 33, 203 26, 471\n",
      "\n",
      "intelligent cloud revenue increased $ 12. 9 billion or 17 %. • server products and clou\n",
      "d services revenue increased $ 12. 6 billion or 19 % driven by azure and other cloud se\n",
      "rvices. azure and other cloud services revenue grew 29 % driven by growth in our consum\n",
      "ption - based services. server products revenue decreased 1 %. • enterprise services re\n",
      "venue increased $ 315 million or 4 % driven by growth in enterprise support services, o\n",
      "ffset in part by a decline in industry solutions ( formerly microsoft consulting servic\n",
      "es ). operating income increased $ 4. 7 billion or 14 %. • gross margin increased $ 8. \n",
      "9 billion or 17 % driven by growth in azure and other cloud services and the change in \n",
      "accounting estimate. gross margin percentage decreased slightly. excluding the impact o\n",
      "f the change in accounting estimate, gross margin percentage decreased 3 points driven \n",
      "by sales mix shift to azure and other cloud services and a decline in azure and other c\n",
      "loud services.\n",
      "\n",
      "----------------------------------------------------------------------------------------------------\n",
      "Query: - Did changes in pricing strategies or promotional activities impact revenue growth?\n",
      "\n",
      "Results:\n",
      "sales and marketing expenses increased $ 934 million or 4 % driven by 3 points of growt\n",
      "h from the nuance and xandr acquisitions and investments in commercial sales, offset in\n",
      " part by a decline in windows advertising. sales and marketing included a favorable for\n",
      "eign currency impact of 2 %. general and administrative general and administrative expe\n",
      "nses include payroll, employee benefits, stock - based compensation expense, employee s\n",
      "everance expense incurred as part of a corporate program, and other headcount - related\n",
      " expenses associated with ( in millions, except percentages ) 2023 2022 percentage chan\n",
      "ge research and development $ 27, 195 $ 24, 512 11 % as a percent of revenue 13 % 12 % \n",
      "1ppt ( in millions, except percentages ) 2023 2022 percentage change sales and marketin\n",
      "g $ 22, 759 $ 21, 825 4 % as a percent of revenue 11 % 11 % 0ppt ( in millions, except \n",
      "percentages ) 2023 2022 percentage change\n",
      "\n",
      "segment results of operations reportable segments fiscal year 2023 compared with fiscal\n",
      " year 2022 productivity and business processes revenue increased $ 5. 9 billion or 9 %.\n",
      " • office commercial products and cloud services revenue increased $ 3. 7 billion or 10\n",
      " %. office 365 commercial revenue grew 13 % with seat growth of 11 %, driven by small a\n",
      "nd medium business and frontline worker offerings, as well as growth in revenue per use\n",
      "r. office commercial products revenue declined 21 % driven by continued customer shift \n",
      "to cloud offerings. • office consumer products and cloud services revenue increased $ 1\n",
      "40 million or 2 %. microsoft 365 consumer subscribers grew 12 % to 67. 0 million. • lin\n",
      "kedin revenue increased $ 1. 3 billion or 10 % driven by talent solutions. • dynamics p\n",
      "roducts and cloud services revenue increased $ 750 million or 16 % driven by dynamics 3\n",
      "65 growth of 24 %. operating income increased $ 4. 5 billion or 15 %.\n",
      "\n",
      "• gaming revenue decreased $ 764 million or 5 % driven by declines in xbox hardware and\n",
      " xbox content and services. xbox hardware revenue decreased 11 % driven by lower volume\n",
      " and price of consoles sold. xbox content and services revenue decreased 3 % driven by \n",
      "a decline in first - party content, offset in part by growth in xbox game pass. • searc\n",
      "h and news advertising revenue increased $ 617 million or 5 %. search and news advertis\n",
      "ing revenue excluding traffic acquisition costs increased 11 % driven by higher search \n",
      "volume and the xandr acquisition. operating income decreased $ 4. 0 billion or 20 %. • \n",
      "gross margin decreased $ 4. 2 billion or 13 % driven by declines in windows and devices\n",
      ". gross margin percentage decreased driven by a decline in devices. • operating expense\n",
      "s decreased $ 195 million or 2 % driven by a decline in devices, offset in part by inve\n",
      "stments in search and news advertising, including 2 points of growth from the xandr acq\n",
      "uisition.\n",
      "\n",
      "marketing, and selling our other products and services ; and income taxes. highlights f\n",
      "rom fiscal year 2023 compared with fiscal year 2022 included : • microsoft cloud revenu\n",
      "e increased 22 % to $ 111. 6 billion. • office commercial products and cloud services r\n",
      "evenue increased 10 % driven by office 365 commercial growth of 13 %. • office consumer\n",
      " products and cloud services revenue increased 2 % and microsoft 365 consumer subscribe\n",
      "rs increased to 67. 0 million. • linkedin revenue increased 10 %. • dynamics products a\n",
      "nd cloud services revenue increased 16 % driven by dynamics 365 growth of 24 %. • serve\n",
      "r products and cloud services revenue increased 19 % driven by azure and other cloud se\n",
      "rvices growth of 29 %. • windows original equipment manufacturer licensing ( “ windows \n",
      "oem ” ) revenue decreased 25 %. • devices revenue decreased 24 %. • windows commercial \n",
      "products and cloud services revenue increased 5 %. • xbox content and services revenue \n",
      "decreased 3 %.\n",
      "\n",
      "intelligent cloud revenue increased $ 12. 9 billion or 17 %. • server products and clou\n",
      "d services revenue increased $ 12. 6 billion or 19 % driven by azure and other cloud se\n",
      "rvices. azure and other cloud services revenue grew 29 % driven by growth in our consum\n",
      "ption - based services. server products revenue decreased 1 %. • enterprise services re\n",
      "venue increased $ 315 million or 4 % driven by growth in enterprise support services, o\n",
      "ffset in part by a decline in industry solutions ( formerly microsoft consulting servic\n",
      "es ). operating income increased $ 4. 7 billion or 14 %. • gross margin increased $ 8. \n",
      "9 billion or 17 % driven by growth in azure and other cloud services and the change in \n",
      "accounting estimate. gross margin percentage decreased slightly. excluding the impact o\n",
      "f the change in accounting estimate, gross margin percentage decreased 3 points driven \n",
      "by sales mix shift to azure and other cloud services and a decline in azure and other c\n",
      "loud services.\n",
      "\n",
      "----------------------------------------------------------------------------------------------------\n",
      "Query: - How did foreign exchange rates or macroeconomic conditions influence revenue growth?\n",
      "\n",
      "Results:\n",
      "revenue, gross margin, and operating income included an unfavorable foreign currency im\n",
      "pact of 3 %, 4 %, and 6 %, respectively. operating expenses included a favorable foreig\n",
      "n currency impact of 2 %. 34\n",
      "\n",
      "our effective tax rate was lower than the u. s. federal statutory rate, primarily due t\n",
      "o earnings taxed at lower rates in foreign jurisdictions resulting from producing and d\n",
      "istributing our products and services through our foreign regional operations center in\n",
      " ireland. the mix of income before income taxes between the u. s. and foreign countries\n",
      " impacted our effective tax rate as a result of the geographic distribution of, and cus\n",
      "tomer demand for, our products and services. in fiscal year 2023, our u. s. income befo\n",
      "re income taxes was $ 52. 9 billion and our foreign income before income taxes was $ 36\n",
      ". 4 billion. in fiscal year 2022, our u. s. income before income taxes was $ 47. 8 bill\n",
      "ion and our foreign income before income taxes was $ 35. 9 billion. uncertain tax posit\n",
      "ions we settled a portion of the internal revenue service ( “ irs ” ) audit for tax yea\n",
      "rs 2004 to 2006 in fiscal year 2011. in\n",
      "\n",
      "refer to accompanying notes. maturities of investments 33, 510 16, 451 51, 792 sales of\n",
      " investments 14, 354 28, 443 14, 008 other, net ( 3, 116 ) ( 2, 825 ) ( 922 ) net cash \n",
      "used in investing ( 22, 680 ) ( 30, 311 ) ( 27, 577 ) effect of foreign exchange rates \n",
      "on cash and cash equivalents ( 194 ) ( 141 ) ( 29 ) net change in cash and cash equival\n",
      "ents 20, 773 ( 293 ) 648 cash and cash equivalents, beginning of period 13, 931 14, 224\n",
      " 13, 576 cash and cash equivalents, end of period $ 34, 704 $ 13, 931 $ 14, 224 ( in mi\n",
      "llions ) 55\n",
      "\n",
      "gains ( losses ), net of tax, on derivative instruments recognized in our consolidated \n",
      "comprehensive income statements were as follows : note 6 — inventories the components o\n",
      "f inventories were as follows : ( in millions ) year ended june 30, 2023 2022 2021 desi\n",
      "gnated as cash flow hedging instruments foreign exchange contracts included in effectiv\n",
      "eness assessment $ 34 $ ( 57 ) $ 34 ( in millions ) june 30, 2023 2022 raw materials $ \n",
      "709 $ 1, 144 work in process 23 82 finished goods 1, 768 2, 516 total $ 2, 500 $ 3, 742\n",
      " 76\n",
      "\n",
      "revenue, gross margin, and operating income included an unfavorable foreign currency im\n",
      "pact of 4 %, 4 %, and 6 %, respectively. cost of revenue and operating expenses both in\n",
      "cluded a favorable foreign currency impact of 2 %. current year gross margin, operating\n",
      " income, net income, and diluted eps were negatively impacted by the q2 charge, which r\n",
      "esulted in decreases of $ 152 million, $ 1. 2 billion, $ 946 million, and $ 0. 13, resp\n",
      "ectively. prior year net income and diluted eps were positively impacted by the net tax\n",
      " benefit related to the transfer of intangible properties, which resulted in an increas\n",
      "e to net income and diluted eps of $ 3. 3 billion and $ 0. 44, respectively. 32\n",
      "\n",
      "----------------------------------------------------------------------------------------------------\n"
     ]
    }
   ],
   "source": [
    "for i, documents in enumerate(retrieved_documents):\n",
    "    print(f\"Query: {joint_query[i]}\")\n",
    "    print(\"\")\n",
    "    print(\"Results:\")\n",
    "    for doc in documents:\n",
    "        print(word_wrap(doc))\n",
    "        print(\"\")\n",
    "    print(\"-\" * 100)"
   ]
  },
  {
   "cell_type": "code",
   "execution_count": 16,
   "id": "2a6ddbd9",
   "metadata": {},
   "outputs": [
    {
     "name": "stderr",
     "output_type": "stream",
     "text": [
      "c:\\Users\\somashekar.inguva\\OneDrive - Telstra\\Documents\\GenAI_Projects\\venv_GenAI\\Lib\\site-packages\\sklearn\\utils\\deprecation.py:151: FutureWarning: 'force_all_finite' was renamed to 'ensure_all_finite' in 1.6 and will be removed in 1.8.\n",
      "  warnings.warn(\n",
      "c:\\Users\\somashekar.inguva\\OneDrive - Telstra\\Documents\\GenAI_Projects\\venv_GenAI\\Lib\\site-packages\\umap\\umap_.py:1952: UserWarning: n_jobs value 1 overridden to 1 by setting random_state. Use no seed for parallelism.\n",
      "  warn(\n",
      "c:\\Users\\somashekar.inguva\\OneDrive - Telstra\\Documents\\GenAI_Projects\\venv_GenAI\\Lib\\site-packages\\sklearn\\utils\\deprecation.py:151: FutureWarning: 'force_all_finite' was renamed to 'ensure_all_finite' in 1.6 and will be removed in 1.8.\n",
      "  warnings.warn(\n",
      "c:\\Users\\somashekar.inguva\\OneDrive - Telstra\\Documents\\GenAI_Projects\\venv_GenAI\\Lib\\site-packages\\sklearn\\utils\\deprecation.py:151: FutureWarning: 'force_all_finite' was renamed to 'ensure_all_finite' in 1.6 and will be removed in 1.8.\n",
      "  warnings.warn(\n",
      "c:\\Users\\somashekar.inguva\\OneDrive - Telstra\\Documents\\GenAI_Projects\\venv_GenAI\\Lib\\site-packages\\sklearn\\utils\\deprecation.py:151: FutureWarning: 'force_all_finite' was renamed to 'ensure_all_finite' in 1.6 and will be removed in 1.8.\n",
      "  warnings.warn(\n",
      "c:\\Users\\somashekar.inguva\\OneDrive - Telstra\\Documents\\GenAI_Projects\\venv_GenAI\\Lib\\site-packages\\sklearn\\utils\\deprecation.py:151: FutureWarning: 'force_all_finite' was renamed to 'ensure_all_finite' in 1.6 and will be removed in 1.8.\n",
      "  warnings.warn(\n"
     ]
    },
    {
     "data": {
      "image/png": "[encoded data removed]",
      "text/plain": [
       "<Figure size 640x480 with 1 Axes>"
      ]
     },
     "metadata": {},
     "output_type": "display_data"
    }
   ],
   "source": [
    "\n",
    "embeddings = chroma_collection.get(include=[\"embeddings\"])[\"embeddings\"]\n",
    "umap_transform = umap.UMAP(random_state=0, transform_seed=0).fit(embeddings)\n",
    "projected_dataset_embeddings = project_embeddings(embeddings, umap_transform)\n",
    "\n",
    "# 4. We can also visualize the results in the embedding space\n",
    "original_query_embedding = embedding_function([original_query])\n",
    "augmented_query_embeddings = embedding_function(joint_query)\n",
    "\n",
    "\n",
    "project_original_query = project_embeddings(original_query_embedding, umap_transform)\n",
    "project_augmented_queries = project_embeddings(\n",
    "    augmented_query_embeddings, umap_transform\n",
    ")\n",
    "\n",
    "retrieved_embeddings = results[\"embeddings\"]\n",
    "result_embeddings = [item for sublist in retrieved_embeddings for item in sublist]\n",
    "\n",
    "projected_result_embeddings = project_embeddings(result_embeddings, umap_transform)\n",
    "\n",
    "import matplotlib.pyplot as plt\n",
    "\n",
    "\n",
    "# Plot the projected query and retrieved documents in the embedding space\n",
    "plt.figure()\n",
    "plt.scatter(\n",
    "    projected_dataset_embeddings[:, 0],\n",
    "    projected_dataset_embeddings[:, 1],\n",
    "    s=10,\n",
    "    color=\"gray\",\n",
    ")\n",
    "plt.scatter(\n",
    "    project_augmented_queries[:, 0],\n",
    "    project_augmented_queries[:, 1],\n",
    "    s=150,\n",
    "    marker=\"X\",\n",
    "    color=\"orange\",\n",
    ")\n",
    "plt.scatter(\n",
    "    projected_result_embeddings[:, 0],\n",
    "    projected_result_embeddings[:, 1],\n",
    "    s=100,\n",
    "    facecolors=\"none\",\n",
    "    edgecolors=\"g\",\n",
    ")\n",
    "plt.scatter(\n",
    "    project_original_query[:, 0],\n",
    "    project_original_query[:, 1],\n",
    "    s=150,\n",
    "    marker=\"X\",\n",
    "    color=\"r\",\n",
    ")\n",
    "\n",
    "plt.gca().set_aspect(\"equal\", \"datalim\")\n",
    "plt.title(f\"{original_query}\")\n",
    "plt.axis(\"off\")\n",
    "plt.show()  # display the plot"
   ]
  },
  {
   "cell_type": "markdown",
   "id": "2a11cc4e",
   "metadata": {
    "tags": [
     "Reranking"
    ]
   },
   "source": [
    "## Case-3: Reranking"
   ]
  },
  {
   "cell_type": "markdown",
   "id": "2ef33fd7",
   "metadata": {},
   "source": [
    "Question:\n",
    "what is the significance of CrossEncoder in sentence_transformers ?\n",
    "\n",
    "Answer:\n",
    "The `CrossEncoder` in the `sentence-transformers` library is a powerful model used for tasks that involve comparing pairs of sentences (or more generally, text inputs). It differs significantly from the more common `SentenceTransformer` model in how it handles and processes input, which directly impacts its accuracy and performance trade-offs.\n",
    "\n",
    "---\n",
    "\n",
    "### 🔍 **What is a CrossEncoder?**\n",
    "\n",
    "In `sentence-transformers`, a `CrossEncoder`:\n",
    "\n",
    "* **Takes two sentences (or pieces of text) as joint input** and feeds them together into a transformer model.\n",
    "* **Does not encode the sentences independently** like `SentenceTransformer` (bi-encoder) models.\n",
    "* Outputs a **single score or classification** for the pair, typically used for ranking or binary classification (e.g., \"are these sentences similar?\").\n",
    "\n",
    "#### Example Use Case:\n",
    "\n",
    "```python\n",
    "from sentence_transformers import CrossEncoder\n",
    "\n",
    "model = CrossEncoder('cross-encoder/ms-marco-MiniLM-L-6-v2')\n",
    "score = model.predict([(\"This is a sentence\", \"This is another sentence\")])\n",
    "```\n",
    "\n",
    "---\n",
    "\n",
    "### 🧠 **How It Works (vs. SentenceTransformer)**\n",
    "\n",
    "| Feature              | `CrossEncoder`                               | `SentenceTransformer` (BiEncoder)        |\n",
    "| -------------------- | -------------------------------------------- | ---------------------------------------- |\n",
    "| Input Structure      | Joint sentence pair input                    | Independently encoded sentences          |\n",
    "| Speed                | Slower (each pair must go through model)     | Very fast (precompute embeddings)        |\n",
    "| Accuracy             | Higher (richer context with cross-attention) | Slightly lower for ranking tasks         |\n",
    "| Embedding Generation | Not applicable                               | Yes, you get standalone sentence vectors |\n",
    "| Use Case             | Classification, re-ranking                   | Semantic search, clustering              |\n",
    "\n",
    "---\n",
    "\n",
    "### 🎯 **When to Use CrossEncoder**\n",
    "\n",
    "Use a `CrossEncoder` when:\n",
    "\n",
    "* You need **maximum accuracy** (e.g., for re-ranking top results from a search).\n",
    "* You are working with **classification tasks** over sentence pairs (e.g., NLI, similarity).\n",
    "* You **don't need to precompute embeddings** or you're working with a small number of sentence pairs.\n",
    "\n",
    "---\n",
    "\n",
    "### ⚖️ Trade-Off Summary\n",
    "\n",
    "| Situation                             | Recommended Model                          |\n",
    "| ------------------------------------- | ------------------------------------------ |\n",
    "| Large-scale semantic search           | `SentenceTransformer`                      |\n",
    "| Small-scale or high-accuracy matching | `CrossEncoder`                             |\n",
    "| Re-ranking top-k from a bi-encoder    | Use CrossEncoder after SentenceTransformer |\n",
    "\n",
    "---\n",
    "\n",
    "### 🛠 Practical Strategy\n",
    "\n",
    "Often, you'll see them used **together**:\n",
    "\n",
    "1. Use `SentenceTransformer` to quickly retrieve top-k candidate sentences.\n",
    "2. Use `CrossEncoder` to **re-rank** these k candidates with high accuracy.\n",
    "\n",
    "This balances speed and performance.\n"
   ]
  },
  {
   "cell_type": "code",
   "execution_count": 24,
   "id": "da42d79d",
   "metadata": {},
   "outputs": [
    {
     "name": "stdout",
     "output_type": "stream",
     "text": [
      "competitive in local markets and enables us to continue to attract top talent from acro\n",
      "ss the world. we plan to continue to make significant investments in a broad range of p\n",
      "roduct research and development activities, and as appropriate we will coordinate our r\n",
      "esearch and development across operating segments and leverage the results across the c\n",
      "ompany. in addition to our main research and development operations, we also operate mi\n",
      "crosoft research. microsoft research is one of the world ’ s largest corporate research\n",
      " organizations, often working in close collaboration with top universities around the w\n",
      "orld, and is focused on advancing the state - of - the - art in computer science and a \n",
      "broad range of other disciplines. our investment in fundamental research provides us a \n",
      "unique perspective on future trends and contributes to our innovation. distribution, sa\n",
      "les, and marketing\n",
      "\n",
      "our success is based on our ability to create new and compelling products, services, an\n",
      "d experiences for our users, to initiate and embrace disruptive technology trends, to e\n",
      "nter new geographic and product markets, and to drive broad adoption of our products an\n",
      "d services. we invest in a range of emerging technology trends and breakthroughs that w\n",
      "e believe offer significant opportunities to deliver value to our customers and growth \n",
      "for the company. based on our assessment of key technology trends, we maintain our long\n",
      " - term commitment to research and development across a wide spectrum of technologies, \n",
      "tools, and platforms spanning digital work and life experiences, cloud computing, ai, d\n",
      "evices, and operating systems. while our main product research and development faciliti\n",
      "es are located in redmond, washington, we also operate research and development facilit\n",
      "ies in other parts of the u. s. and around the world. this global approach helps us rem\n",
      "ain\n",
      "\n",
      "we also continue to take responsibility for the impacts of our direct operations on ear\n",
      "th ’ s ecosystems. we ’ ve contracted to protect 17, 268 acres of land, over 50 percent\n",
      " more than the land we use to operate. of that, 12, 270 acres — the equivalent of appro\n",
      "ximately 7, 000 soccer fields — were designated as permanently protected. technology is\n",
      " a powerful lever to help us avoid the most severe impacts of climate change. that ’ s \n",
      "why we ’ re accelerating our investment in more efficient datacenters, clean energy, en\n",
      "hancements to the microsoft cloud for sustainability and planetary computer, and green \n",
      "software practices. to date, through our climate innovation fund, we ’ ve allocated mor\n",
      "e than $ 700 million to a global portfolio of 50 + investments spanning sustainable sol\n",
      "utions in energy, industrial, and natural systems. finally, we believe ai can be a powe\n",
      "rful accelerant in addressing the climate crisis. we expanded our ai for good lab in\n",
      "\n",
      "make select intellectual property broadly available at no or low cost to achieve a stra\n",
      "tegic objective, such as promoting industry standards, advancing interoperability, supp\n",
      "orting societal and / or environmental efforts, or attracting and enabling our external\n",
      " development community. our increasing engagement with open source software will also c\n",
      "ause us to license our intellectual property rights broadly in certain situations. whil\n",
      "e it may be necessary in the future to seek or renew licenses relating to various aspec\n",
      "ts of our products and services, we believe, based upon past experience and industry pr\n",
      "actice, such licenses generally can be obtained on commercially reasonable terms. we be\n",
      "lieve our continuing research and product development are not materially dependent on a\n",
      "ny single license or other agreement with a third party relating to the development of \n",
      "our products. investing in the future\n",
      "\n",
      "how github copilot was writing about 80 percent of his code, with 80 percent accuracy. \n",
      "two days later, i saw a stunning example of work we ’ ve done with the government of in\n",
      "dia ’ s ministry of electronics and it, which is applying an ai model so farmers in rur\n",
      "al areas can interact with government resources in their native languages. think about \n",
      "that : a foundation model that was developed on the west coast of the united states is \n",
      "already transforming the lives of both elite developers and rural farmers on the other \n",
      "side of the globe. we ’ ve not seen this speed of diffusion and breadth of impact in th\n",
      "e tech industry before. as a company, this is our moment to show up and responsibly bui\n",
      "ld solutions that drive economic growth and benefit every community, country, industry,\n",
      " and person. if we do it well, the world will do well, and microsoft will do well too. \n",
      "i ’ ve never been more confident that we will deliver on this promise together in the d\n",
      "ays, months, and years to come.\n",
      "\n",
      "( in millions ) year ended june 30, 2023 2022 2021 net realized gains on investments so\n",
      "ld $ 75 $ 29 $ 123 net unrealized gains on investments still held 303 509 1, 057 impair\n",
      "ments of investments ( 20 ) ( 20 ) ( 11 ) total $ 358 $ 518 $ 1, 169 66\n",
      "\n",
      "country. and although ai can serve as a catalyst for opportunity and growth, we must fi\n",
      "rst ensure everyone has access to the technologies, data, and skills they need to benef\n",
      "it. to achieve this, we are focused on getting technology into the hands of nonprofits,\n",
      " social entrepreneurs, and other civil society organizations to help them digitally tra\n",
      "nsform, so they can help address some of society ’ s biggest challenges. this year, we \n",
      "provided nonprofits with over $ 3. 8 billion in discounted and donated technology. near\n",
      "ly 325, 000 nonprofits used our cloud. and to help them tap the potential of ai, we ’ r\n",
      "e building new ai capabilities for fundraising, marketing, and program delivery. ai wil\n",
      "l displace some jobs, but it will also create new ones. that ’ s why we aim to train an\n",
      "d certify 10 million people by 2025 with the skills for jobs and livelihoods in an incr\n",
      "easingly digital economy. since july 2020, we ’ ve helped 8. 5 million\n",
      "\n",
      "operating expenses research and development research and development expenses include p\n",
      "ayroll, employee benefits, stock - based compensation expense, and other headcount - re\n",
      "lated expenses associated with product development. research and development expenses a\n",
      "lso include third - party development and programming costs and the amortization of pur\n",
      "chased software code and services content. fiscal year 2023 compared with fiscal year 2\n",
      "022 research and development expenses increased $ 2. 7 billion or 11 % driven by invest\n",
      "ments in cloud engineering and linkedin. sales and marketing sales and marketing expens\n",
      "es include payroll, employee benefits, stock - based compensation expense, and other he\n",
      "adcount - related expenses associated with sales and marketing personnel, and the costs\n",
      " of advertising, promotions, trade shows, seminars, and other programs. fiscal year 202\n",
      "3 compared with fiscal year 2022\n",
      "\n",
      "we protect our intellectual property investments in a variety of ways. we work actively\n",
      " in the u. s. and internationally to ensure the enforcement of copyright, trademark, tr\n",
      "ade secret, and other protections that apply to our software and hardware products, ser\n",
      "vices, business plans, and branding. we are a leader among technology companies in purs\n",
      "uing patents and currently have a portfolio of over 70, 000 u. s. and international pat\n",
      "ents issued and over 19, 000 pending worldwide. while we employ much of our internally \n",
      "- developed intellectual property in our products and services, we also engage in outbo\n",
      "und licensing of specific patented technologies that are incorporated into licensees ’ \n",
      "products. from time to time, we enter into broader cross - license agreements with othe\n",
      "r technology companies covering entire groups of patents. we may also purchase or licen\n",
      "se technology that we incorporate into our products and services. at times, we\n",
      "\n",
      "research and development product and service development, and intellectual property we \n",
      "develop most of our products and services internally through the following engineering \n",
      "groups. • cloud and ai – focuses on making it professionals, developers, partners, inde\n",
      "pendent software vendors, and their systems more productive and efficient through devel\n",
      "opment of azure ai platform and cloud infrastructure, server, database, crm, erp, softw\n",
      "are development tools and services ( including github ), ai cognitive services, and oth\n",
      "er business process applications and services for enterprises. • strategic missions and\n",
      " technologies – focuses on incubating technical products and support solutions with tra\n",
      "nsformative potential for the future of cloud computing and continued company growth ac\n",
      "ross quantum computing, azure space & missions engineering, telecommunications, and mic\n",
      "rosoft federal sales and delivery.\n",
      "\n",
      "Scores:\n",
      "3.447451\n",
      "-0.26802775\n",
      "-7.5625687\n",
      "-5.184922\n",
      "-10.45286\n",
      "-9.774546\n",
      "-9.665049\n",
      "-0.1104794\n",
      "-7.0905204\n",
      "-3.1347823\n",
      "New Ordering:\n",
      "1\n",
      "8\n",
      "2\n",
      "10\n",
      "4\n",
      "9\n",
      "3\n",
      "7\n",
      "6\n",
      "5\n",
      "Scores:\n",
      "-8.883005\n",
      "-7.30964\n",
      "-5.344445\n",
      "-2.796057\n",
      "-10.8127\n",
      "-10.803807\n",
      "-8.258857\n",
      "-10.245659\n",
      "-9.333399\n",
      "-5.7775054\n",
      "-5.1089993\n",
      "-4.823414\n",
      "-11.02249\n",
      "-10.147163\n",
      "-9.14486\n",
      "-4.7737317\n",
      "-4.816516\n",
      "-9.409264\n",
      "-6.4308596\n",
      "-6.0426025\n",
      "-4.632406\n",
      "-3.3177633\n",
      "-11.113979\n",
      "-9.565954\n",
      "New Ordering:\n",
      "3\n",
      "21\n",
      "20\n",
      "15\n",
      "16\n",
      "11\n",
      "10\n",
      "2\n",
      "9\n",
      "19\n",
      "18\n",
      "1\n",
      "6\n",
      "0\n",
      "14\n",
      "8\n",
      "17\n",
      "23\n",
      "13\n",
      "7\n",
      "5\n",
      "4\n",
      "12\n",
      "22\n"
     ]
    }
   ],
   "source": [
    "from helper_utils import word_wrap, load_chroma\n",
    "from pypdf import PdfReader\n",
    "import os\n",
    "from openai import OpenAI\n",
    "from dotenv import load_dotenv\n",
    "\n",
    "\n",
    "from pypdf import PdfReader\n",
    "import numpy as np\n",
    "\n",
    "from langchain_community.document_loaders import PyPDFLoader\n",
    "\n",
    "\n",
    "# Load environment variables from .env file\n",
    "load_dotenv()\n",
    "\n",
    "openai_key = os.getenv(\"OPENAI_API_KEY\")\n",
    "client = OpenAI(api_key=openai_key)\n",
    "\n",
    "\n",
    "import chromadb\n",
    "from chromadb.utils.embedding_functions import SentenceTransformerEmbeddingFunction\n",
    "\n",
    "embedding_function = SentenceTransformerEmbeddingFunction()\n",
    "\n",
    "\n",
    "reader = PdfReader(\"data/microsoft-annual-report.pdf\")\n",
    "pdf_texts = [p.extract_text().strip() for p in reader.pages]\n",
    "\n",
    "# Filter the empty strings\n",
    "pdf_texts = [text for text in pdf_texts if text]\n",
    "\n",
    "from langchain.text_splitter import (\n",
    "    RecursiveCharacterTextSplitter,\n",
    "    SentenceTransformersTokenTextSplitter,\n",
    ")\n",
    "\n",
    "character_splitter = RecursiveCharacterTextSplitter(\n",
    "    separators=[\"\\n\\n\", \"\\n\", \". \", \" \", \"\"], chunk_size=1000, chunk_overlap=0\n",
    ")\n",
    "character_split_texts = character_splitter.split_text(\"\\n\\n\".join(pdf_texts))\n",
    "\n",
    "token_splitter = SentenceTransformersTokenTextSplitter(\n",
    "    chunk_overlap=0, tokens_per_chunk=256\n",
    ")\n",
    "\n",
    "token_split_texts = []\n",
    "for text in character_split_texts:\n",
    "    token_split_texts += token_splitter.split_text(text)\n",
    "\n",
    "chroma_client = chromadb.Client()\n",
    "chroma_collection = chroma_client.get_or_create_collection(\n",
    "    \"microsoft-collect\", embedding_function=embedding_function\n",
    ")\n",
    "\n",
    "# extract the embeddings of the token_split_texts\n",
    "ids = [str(i) for i in range(len(token_split_texts))]\n",
    "\n",
    "chroma_collection.add(ids=ids, documents=token_split_texts)\n",
    "\n",
    "count = chroma_collection.count()\n",
    "\n",
    "query = \"What has been the investment in research and development?\"\n",
    "\n",
    "results = chroma_collection.query(\n",
    "    query_texts=query, n_results=10, include=[\"documents\", \"embeddings\"]\n",
    ")\n",
    "\n",
    "retrieved_documents = results[\"documents\"][0]\n",
    "\n",
    "for document in results[\"documents\"][0]:\n",
    "    print(word_wrap(document))\n",
    "    print(\"\")\n",
    "\n",
    "from sentence_transformers import CrossEncoder\n",
    "\n",
    "cross_encoder = CrossEncoder(\"cross-encoder/ms-marco-MiniLM-L-6-v2\")\n",
    "\n",
    "pairs = [[query, doc] for doc in retrieved_documents]\n",
    "scores = cross_encoder.predict(pairs)\n",
    "\n",
    "print(\"Scores:\")\n",
    "for score in scores:\n",
    "    print(score)\n",
    "\n",
    "print(\"New Ordering:\")\n",
    "for o in np.argsort(scores)[::-1]:\n",
    "    print(o + 1)\n",
    "\n",
    "original_query = (\n",
    "    \"What were the most important factors that contributed to increases in revenue?\"\n",
    ")\n",
    "\n",
    "generated_queries = [\n",
    "    \"What were the major drivers of revenue growth?\",\n",
    "    \"Were there any new product launches that contributed to the increase in revenue?\",\n",
    "    \"Did any changes in pricing or promotions impact the revenue growth?\",\n",
    "    \"What were the key market trends that facilitated the increase in revenue?\",\n",
    "    \"Did any acquisitions or partnerships contribute to the revenue growth?\",\n",
    "]\n",
    "\n",
    "# concatenate the original query with the generated queries\n",
    "queries = [original_query] + generated_queries\n",
    "\n",
    "\n",
    "results = chroma_collection.query(\n",
    "    query_texts=queries, n_results=10, include=[\"documents\", \"embeddings\"]\n",
    ")\n",
    "retrieved_documents = results[\"documents\"]\n",
    "\n",
    "# Deduplicate the retrieved documents\n",
    "unique_documents = set()\n",
    "for documents in retrieved_documents:\n",
    "    for document in documents:\n",
    "        unique_documents.add(document)\n",
    "\n",
    "unique_documents = list(unique_documents)\n",
    "\n",
    "pairs = []\n",
    "for doc in unique_documents:\n",
    "    pairs.append([original_query, doc])\n",
    "\n",
    "scores = cross_encoder.predict(pairs)\n",
    "\n",
    "print(\"Scores:\")\n",
    "for score in scores:\n",
    "    print(score)\n",
    "\n",
    "print(\"New Ordering:\")\n",
    "for o in np.argsort(scores)[::-1]:\n",
    "    print(o)\n",
    "# ====\n",
    "top_indices = np.argsort(scores)[::-1][:5]\n",
    "top_documents = [unique_documents[i] for i in top_indices]\n",
    "\n",
    "# Concatenate the top documents into a single context\n",
    "context = \"\\n\\n\".join(top_documents)"
   ]
  },
  {
   "cell_type": "code",
   "execution_count": 25,
   "id": "15429afb",
   "metadata": {},
   "outputs": [
    {
     "name": "stdout",
     "output_type": "stream",
     "text": [
      "fiscal year 2023 compared with fiscal year 2022 revenue increased $ 13. 6 billion or 7 % driven by growth in intelligent cloud and productivity and business processes, offset in part by a decline in more personal computing. intelligent cloud revenue increased driven by azure and other cloud services. productivity and business processes revenue increased driven by office 365 commercial and linkedin. more personal computing revenue decreased driven by windows and devices. cost of revenue increased $ 3. 2 billion or 5 % driven by growth in microsoft cloud, offset in part by the change in accounting estimate. gross margin increased $ 10. 4 billion or 8 % driven by growth in intelligent cloud and productivity and business processes and the change in accounting estimate, offset in part by a decline in more personal computing. • gross margin percentage increased slightly. excluding the impact of the change in accounting estimate,\n",
      "\n",
      "• operating expenses increased $ 4. 2 billion or 21 % driven by investments in azure, 4 points of growth from the nuance acquisition, and employee severance expenses. revenue, gross margin, and operating income included an unfavorable foreign currency impact of 4 %, 4 %, and 6 %, respectively. operating expenses included a favorable foreign currency impact of 2 %. more personal computing revenue decreased $ 5. 2 billion or 9 %. • windows revenue decreased $ 3. 2 billion or 13 % driven by a decrease in windows oem. windows oem revenue decreased 25 % as elevated channel inventory levels continued to drive additional weakness beyond declining pc demand. windows commercial products and cloud services revenue increased 5 % driven by demand for microsoft 365. • devices revenue decreased $ 1. 8 billion or 24 % as elevated channel inventory levels continued to drive additional weakness beyond declining pc demand.\n",
      "\n",
      "revenue, gross margin, and operating income included an unfavorable foreign currency impact of 4 %, 4 %, and 6 %, respectively. cost of revenue and operating expenses both included a favorable foreign currency impact of 2 %. current year gross margin, operating income, net income, and diluted eps were negatively impacted by the q2 charge, which resulted in decreases of $ 152 million, $ 1. 2 billion, $ 946 million, and $ 0. 13, respectively. prior year net income and diluted eps were positively impacted by the net tax benefit related to the transfer of intangible properties, which resulted in an increase to net income and diluted eps of $ 3. 3 billion and $ 0. 44, respectively. 32\n",
      "\n",
      "marketing, and selling our other products and services ; and income taxes. highlights from fiscal year 2023 compared with fiscal year 2022 included : • microsoft cloud revenue increased 22 % to $ 111. 6 billion. • office commercial products and cloud services revenue increased 10 % driven by office 365 commercial growth of 13 %. • office consumer products and cloud services revenue increased 2 % and microsoft 365 consumer subscribers increased to 67. 0 million. • linkedin revenue increased 10 %. • dynamics products and cloud services revenue increased 16 % driven by dynamics 365 growth of 24 %. • server products and cloud services revenue increased 19 % driven by azure and other cloud services growth of 29 %. • windows original equipment manufacturer licensing ( “ windows oem ” ) revenue decreased 25 %. • devices revenue decreased 24 %. • windows commercial products and cloud services revenue increased 5 %. • xbox content and services revenue decreased 3 %.\n",
      "\n",
      "intelligent cloud revenue increased $ 12. 9 billion or 17 %. • server products and cloud services revenue increased $ 12. 6 billion or 19 % driven by azure and other cloud services. azure and other cloud services revenue grew 29 % driven by growth in our consumption - based services. server products revenue decreased 1 %. • enterprise services revenue increased $ 315 million or 4 % driven by growth in enterprise support services, offset in part by a decline in industry solutions ( formerly microsoft consulting services ). operating income increased $ 4. 7 billion or 14 %. • gross margin increased $ 8. 9 billion or 17 % driven by growth in azure and other cloud services and the change in accounting estimate. gross margin percentage decreased slightly. excluding the impact of the change in accounting estimate, gross margin percentage decreased 3 points driven by sales mix shift to azure and other cloud services and a decline in azure and other cloud services.\n"
     ]
    }
   ],
   "source": [
    "print(context)"
   ]
  },
  {
   "cell_type": "code",
   "execution_count": 26,
   "id": "84322abb",
   "metadata": {},
   "outputs": [],
   "source": [
    "def generate_multi_query(query, context, model=\"gpt-3.5-turbo\"):\n",
    "\n",
    "    prompt = f\"\"\"\n",
    "    You are a knowledgeable financial research assistant. \n",
    "    Your users are inquiring about an annual report. \n",
    "    \"\"\"\n",
    "\n",
    "    messages = [\n",
    "        {\n",
    "            \"role\": \"system\",\n",
    "            \"content\": prompt,\n",
    "        },\n",
    "        {\n",
    "            \"role\": \"user\",\n",
    "            \"content\": f\"based on the following context:\\n\\n{context}\\n\\nAnswer the query: '{query}'\",\n",
    "        },\n",
    "    ]\n",
    "\n",
    "    response = client.chat.completions.create(\n",
    "        model=model,\n",
    "        messages=messages,\n",
    "    )\n",
    "    content = response.choices[0].message.content\n",
    "    content = content.split(\"\\n\")\n",
    "    return content"
   ]
  },
  {
   "cell_type": "code",
   "execution_count": 27,
   "id": "9aac3091",
   "metadata": {},
   "outputs": [
    {
     "name": "stdout",
     "output_type": "stream",
     "text": [
      "Final Answer:\n",
      "['The most important factors that contributed to increases in revenue for the fiscal year 2023 compared with fiscal year 2022 are as follows:', '', '1. Growth in Microsoft Cloud: Microsoft cloud revenue increased significantly by 22% to $111.6 billion. This growth was primarily driven by intelligent cloud services like Azure and other cloud services.', '', '2. Productivity and Business Processes: Revenue in this segment increased, particularly driven by Office 365 commercial and LinkedIn.', '', '3. Azure and Other Cloud Services: Revenue from Azure and other cloud services within the intelligent cloud segment experienced substantial growth.', '', '4. Dynamics 365: Revenue from Dynamics products and cloud services increased by 16%, mainly due to the growth of Dynamics 365.', '', '5. Office 365 Commercial: The growth of Office 365 commercial services contributed to the overall revenue increase in the productivity and business processes segment.', '', '6. Enterprise Services: Revenue from enterprise services, particularly from enterprise support services, also played a role in the revenue increase.', '', 'Overall, the growth in cloud services, specifically Azure and other related services, along with the performance of productivity tools like Office 365 and LinkedIn were key drivers of the revenue increase for the fiscal year 2023.']\n"
     ]
    }
   ],
   "source": [
    "res = generate_multi_query(query=original_query, context=context)\n",
    "print(\"Final Answer:\")\n",
    "print(res)"
   ]
  },
  {
   "cell_type": "markdown",
   "id": "dc9dec7c",
   "metadata": {},
   "source": [
    "##\n",
    "Question: And what about NER, in which case we need to use it over CrossEncoder and other techniques ?\n",
    "\n",
    "Answer:\n",
    "Excellent — now you're thinking in terms of **matching the right tool to the right NLP task**, which is crucial for building effective systems.\n",
    "\n",
    "Let’s focus on **NER (Named Entity Recognition)** and how it compares to using tools like `CrossEncoder`, `SentenceTransformer`, or general LLM-based pipelines.\n",
    "\n",
    "---\n",
    "\n",
    "## 🧠 **What is NER?**\n",
    "\n",
    "NER is a **token-level task**:\n",
    "\n",
    "* It identifies **entities** in text like people, organizations, dates, locations, etc.\n",
    "* Example:\n",
    "\n",
    "  > \"Barack Obama was born in Hawaii.\"\n",
    "  > → `Barack Obama` = PERSON, `Hawaii` = LOCATION\n",
    "\n",
    "---\n",
    "\n",
    "## 🔍 **How NER differs from CrossEncoder and SentenceTransformer**\n",
    "\n",
    "| Task Type         | NER                                     | CrossEncoder / SentenceTransformer              |\n",
    "| ----------------- | --------------------------------------- | ----------------------------------------------- |\n",
    "| Granularity       | **Token-level**                         | **Sentence or pair-level**                      |\n",
    "| Output            | List of entities + types                | Similarity score or classification label        |\n",
    "| Use Cases         | Information extraction, knowledge graph | Sentence similarity, re-ranking, classification |\n",
    "| Pretrained Models | SpaCy, Flair, HuggingFace Transformers  | SentenceTransformers, CrossEncoders             |\n",
    "| Task Type         | **Structured prediction**               | **Pairwise reasoning / classification**         |\n",
    "\n",
    "---\n",
    "\n",
    "## ⚠️ **When NER is the right tool**\n",
    "\n",
    "You should use **NER models** when your goal is to extract **structured information from unstructured text**.\n",
    "\n",
    "### ✅ Use NER for:\n",
    "\n",
    "* Pulling names, places, dates from news or medical records\n",
    "* Creating knowledge bases from raw text\n",
    "* Extracting key data for search or analytics\n",
    "* Feeding entities into a graph database\n",
    "\n",
    "### Example with SpaCy:\n",
    "\n",
    "```python\n",
    "import spacy\n",
    "\n",
    "nlp = spacy.load(\"en_core_web_sm\")\n",
    "doc = nlp(\"Apple was founded by Steve Jobs in Cupertino.\")\n",
    "for ent in doc.ents:\n",
    "    print(ent.text, ent.label_)\n",
    "```\n",
    "\n",
    "---\n",
    "\n",
    "## ❌ When NOT to use NER\n",
    "\n",
    "Don't use NER for:\n",
    "\n",
    "* Measuring similarity between two sentences\n",
    "* Classifying sentence pairs (e.g., entailment)\n",
    "* Retrieving documents by meaning\n",
    "* RAG pipelines (typically)\n",
    "\n",
    "Those are handled much better by:\n",
    "\n",
    "* ✅ `SentenceTransformer` (for dense semantic retrieval)\n",
    "* ✅ `CrossEncoder` (for pairwise reranking or classification)\n",
    "* ✅ LLMs / LangChain Agents (for reasoning or Q\\&A)\n",
    "\n",
    "---\n",
    "\n",
    "## 🔁 How NER and CrossEncoder can **work together**\n",
    "\n",
    "You can **combine NER with other techniques**:\n",
    "\n",
    "| Goal                            | Tool Combo                        |\n",
    "| ------------------------------- | --------------------------------- |\n",
    "| Extract entities from documents | NER (e.g., SpaCy, transformers)   |\n",
    "| Build search over entities      | `SentenceTransformer` + FAISS     |\n",
    "| Rerank query results            | `CrossEncoder`                    |\n",
    "| Answer questions from entities  | LangChain Agent + Retriever + NER |\n",
    "\n",
    "So:\n",
    "\n",
    "* **NER = extraction**\n",
    "* **CrossEncoder = understanding/decision-making on pairs**\n",
    "* **SentenceTransformer = retrieval and search**\n",
    "* **LangChain = glue/brain to orchestrate all this**\n",
    "\n",
    "---\n",
    "\n",
    "## Summary\n",
    "\n",
    "| Tool                    | Best For                              |\n",
    "| ----------------------- | ------------------------------------- |\n",
    "| **NER**                 | Extracting entities from raw text     |\n",
    "| **CrossEncoder**        | Accurate scoring of sentence pairs    |\n",
    "| **SentenceTransformer** | Fast semantic similarity or retrieval |\n",
    "| **LangChain/Agents**    | Complex pipelines, reasoning, tools   |\n"
   ]
  },
  {
   "cell_type": "markdown",
   "id": "a0a05734",
   "metadata": {},
   "source": [
    "## Case-3: Dense Passage Retrieval(DPR) Technique:"
   ]
  },
  {
   "cell_type": "markdown",
   "id": "e0661641",
   "metadata": {},
   "source": [
    "## \n",
    "Question: And what is DPR technique\n",
    "Answer: \n",
    "Great question. Let's break down **DPR (Dense Passage Retrieval)** — a key technique in **dense retrieval-based QA systems**, especially useful in **Retrieval-Augmented Generation (RAG)**.\n",
    "\n",
    "---\n",
    "\n",
    "## 🧠 What is **DPR**?\n",
    "\n",
    "**DPR (Dense Passage Retrieval)** is a technique introduced by Facebook AI (now Meta AI) in their 2020 paper:\n",
    "\n",
    "> **\"Dense Passage Retrieval for Open-Domain Question Answering\"**\n",
    "> [Karpukhin et al., 2020](https://arxiv.org/abs/2004.04906)\n",
    "\n",
    "DPR aims to **efficiently retrieve relevant text passages** (documents or chunks) to answer a natural language question using **dense vector representations**, not keyword-based matching (like TF-IDF or BM25).\n",
    "\n",
    "---\n",
    "\n",
    "## 🔧 **How does DPR work?**\n",
    "\n",
    "DPR uses two separate BERT-based encoders:\n",
    "\n",
    "| Component                                                                                                                 | Description                            |\n",
    "| ------------------------------------------------------------------------------------------------------------------------- | -------------------------------------- |\n",
    "| **Question Encoder**                                                                                                      | Encodes the user's query into a vector |\n",
    "| **Context Encoder**                                                                                                       | Encodes all passages into vectors      |\n",
    "| ✅ **Key idea**: Both encoders are trained so that the query and relevant passage vectors are **close in embedding space** |                                        |\n",
    "\n",
    "During retrieval:\n",
    "\n",
    "1. Encode the query with the question encoder.\n",
    "2. Search a vector index (e.g., FAISS) to find passages with the most similar embeddings.\n",
    "3. Return top-k passages to an answer module (e.g., an LLM or reader model).\n",
    "\n",
    "---\n",
    "\n",
    "## 🧱 Architecture Overview\n",
    "\n",
    "```\n",
    "[Query] --> [Question Encoder] ---> [Query Embedding]\n",
    "                                      |\n",
    "                         +------------+------------+\n",
    "                         |                         |\n",
    "     [Passage A] --> [Context Encoder] --> [Vec A] |\n",
    "     [Passage B] --> [Context Encoder] --> [Vec B] +--> Similarity Scores --> Top-K\n",
    "     ...                                         |\n",
    "     [Passage N] --> [Context Encoder] --> [Vec N] \n",
    "```\n",
    "\n",
    "---\n",
    "\n",
    "## 🚀 **Why DPR over traditional search (like BM25)?**\n",
    "\n",
    "| Feature                        | Traditional (BM25)          | DPR                        |\n",
    "| ------------------------------ | --------------------------- | -------------------------- |\n",
    "| Matching method                | Exact or fuzzy word overlap | Semantic vector similarity |\n",
    "| Synonym/semantic understanding | ❌ Poor                      | ✅ Strong                   |\n",
    "| Speed                          | Fast                        | Fast (with FAISS)          |\n",
    "| Training                       | ❌ No learning               | ✅ Can be fine-tuned        |\n",
    "| Performance on QA              | Moderate                    | High (when tuned well)     |\n",
    "\n",
    "---\n",
    "\n",
    "## ✅ Use Cases for DPR\n",
    "\n",
    "* Open-domain **Question Answering** systems (e.g., \"Who discovered gravity?\")\n",
    "* **RAG** pipelines for LLMs (DPR handles retrieval, LLM handles generation)\n",
    "* **Semantic search** where deep understanding of language is needed\n",
    "* Academic or legal document search, tech support bots, etc.\n",
    "\n",
    "---\n",
    "\n",
    "## 🔬 DPR vs SentenceTransformer\n",
    "\n",
    "| Feature            | DPR                                  | SentenceTransformer                   |\n",
    "| ------------------ | ------------------------------------ | ------------------------------------- |\n",
    "| Architecture       | Dual BERT encoders (query + passage) | Usually a single encoder (bi-encoder) |\n",
    "| Training Objective | Contrastive (query-positive pairs)   | Similar (e.g., SimCSE, SBERT)         |\n",
    "| Performance        | Very good for QA tasks               | More general-purpose embeddings       |\n",
    "| Pretrained Models  | `facebook/dpr-*`                     | `sentence-transformers/*`             |\n",
    "| Use in RAG         | Very common                          | Also common                           |\n",
    "\n",
    "👉 **In practice**, SentenceTransformer can replicate or extend DPR (with more flexibility), and is often preferred in modern RAG setups due to ease of use and wider model variety.\n",
    "\n",
    "---\n",
    "\n",
    "## 🧪 Want to Try DPR?\n",
    "\n",
    "Hugging Face has ready models:\n",
    "\n",
    "```python\n",
    "from transformers import DPRQuestionEncoder, DPRContextEncoder, DPRQuestionEncoderTokenizer, DPRContextEncoderTokenizer\n",
    "\n",
    "question_encoder = DPRQuestionEncoder.from_pretrained('facebook/dpr-question_encoder-single-nq-base')\n",
    "question_tokenizer = DPRQuestionEncoderTokenizer.from_pretrained('facebook/dpr-question_encoder-single-nq-base')\n",
    "\n",
    "context_encoder = DPRContextEncoder.from_pretrained('facebook/dpr-ctx_encoder-single-nq-base')\n",
    "context_tokenizer = DPRContextEncoderTokenizer.from_pretrained('facebook/dpr-ctx_encoder-single-nq-base')\n",
    "```\n",
    "\n",
    "---\n",
    "\n",
    "## 🧠 Summary\n",
    "\n",
    "* **DPR** is a dense retrieval technique using **dual encoders** for questions and passages.\n",
    "* It's foundational in **RAG**, open-domain QA, and semantic search.\n",
    "* Compared to older methods like BM25, it gives **much better semantic matching**.\n",
    "* It can be used standalone or as part of a **hybrid retriever** with CrossEncoders and LLMs."
   ]
  },
  {
   "cell_type": "code",
   "execution_count": 29,
   "id": "601cfec0",
   "metadata": {},
   "outputs": [
    {
     "name": "stderr",
     "output_type": "stream",
     "text": [
      "Some weights of the model checkpoint at facebook/dpr-question_encoder-single-nq-base were not used when initializing DPRQuestionEncoder: ['question_encoder.bert_model.pooler.dense.bias', 'question_encoder.bert_model.pooler.dense.weight']\n",
      "- This IS expected if you are initializing DPRQuestionEncoder from the checkpoint of a model trained on another task or with another architecture (e.g. initializing a BertForSequenceClassification model from a BertForPreTraining model).\n",
      "- This IS NOT expected if you are initializing DPRQuestionEncoder from the checkpoint of a model that you expect to be exactly identical (initializing a BertForSequenceClassification model from a BertForSequenceClassification model).\n",
      "Some weights of the model checkpoint at facebook/dpr-ctx_encoder-single-nq-base were not used when initializing DPRContextEncoder: ['ctx_encoder.bert_model.pooler.dense.bias', 'ctx_encoder.bert_model.pooler.dense.weight']\n",
      "- This IS expected if you are initializing DPRContextEncoder from the checkpoint of a model trained on another task or with another architecture (e.g. initializing a BertForSequenceClassification model from a BertForPreTraining model).\n",
      "- This IS NOT expected if you are initializing DPRContextEncoder from the checkpoint of a model that you expect to be exactly identical (initializing a BertForSequenceClassification model from a BertForSequenceClassification model).\n",
      "The tokenizer class you load from this checkpoint is not the same type as the class this function is called from. It may result in unexpected tokenization. \n",
      "The tokenizer class you load from this checkpoint is 'DPRQuestionEncoderTokenizer'. \n",
      "The class this function is called from is 'DPRContextEncoderTokenizer'.\n"
     ]
    },
    {
     "name": "stdout",
     "output_type": "stream",
     "text": [
      "Similarities: [[0.39684945 0.42178315 0.45034823 0.44307727 0.38877854 0.47482723\n",
      "  0.4102697  0.64571995]]\n",
      "Most relevant passage: Grace Hopper was an American computer scientist and United States Navy rear admiral. who was a pioneer of computer programming, and one of the first programmers of the Harvard Mark I computer. inventor of the first compiler for a computer programming language.\n"
     ]
    }
   ],
   "source": [
    "from transformers import (\n",
    "    DPRQuestionEncoder,\n",
    "    DPRContextEncoder,\n",
    "    DPRQuestionEncoderTokenizer,\n",
    "    DPRContextEncoderTokenizer,\n",
    ")\n",
    "import torch\n",
    "import numpy as np\n",
    "from sklearn.metrics.pairwise import cosine_similarity\n",
    "\n",
    "# Load pre-trained DPR models and tokenizers\n",
    "question_encoder = DPRQuestionEncoder.from_pretrained(\n",
    "    \"facebook/dpr-question_encoder-single-nq-base\"\n",
    ")\n",
    "context_encoder = DPRContextEncoder.from_pretrained(\n",
    "    \"facebook/dpr-ctx_encoder-single-nq-base\"\n",
    ")\n",
    "question_tokenizer = DPRQuestionEncoderTokenizer.from_pretrained(\n",
    "    \"facebook/dpr-question_encoder-single-nq-base\"\n",
    ")\n",
    "context_tokenizer = DPRContextEncoderTokenizer.from_pretrained(\n",
    "    \"facebook/dpr-ctx_encoder-single-nq-base\"\n",
    ")\n",
    "\n",
    "# Encode a query\n",
    "# query = \"capital of africa?\" \n",
    "# o/p: Similarities: [[0.5736567  0.5479352  0.579875   0.57300705 0.5849962  0.46129072\n",
    "#   0.36704734 0.36080304]]\n",
    "# Most relevant passage: Maputo is the capital of Mozambique.\n",
    "query = \"Who invented the first computer\"\n",
    "question_inputs = question_tokenizer(query, return_tensors=\"pt\")\n",
    "question_embedding = question_encoder(**question_inputs).pooler_output\n",
    "\n",
    "# Encode passages\n",
    "passages = [\n",
    "    \"Paris is the capital of France.\",\n",
    "    \"Berlin is the capital of Germany.\",\n",
    "    \"Madrid is the capital of Spain.\",\n",
    "    \"Rome is the capital of Italy.\",\n",
    "    \"Maputo is the capital of Mozambique.\",\n",
    "    \"To be or not to be, that is the question.\",\n",
    "    \"The quick brown fox jumps over the lazy dog.\",\n",
    "    \"Grace Hopper was an American computer scientist and United States Navy rear admiral. who was a pioneer of computer programming, and one of the first programmers of the Harvard Mark I computer. inventor of the first compiler for a computer programming language.\",\n",
    "]\n",
    "\n",
    "context_embeddings = []\n",
    "for passage in passages:\n",
    "    context_inputs = context_tokenizer(passage, return_tensors=\"pt\")\n",
    "    context_embedding = context_encoder(**context_inputs).pooler_output\n",
    "    context_embeddings.append(context_embedding)\n",
    "\n",
    "\n",
    "context_embeddings = torch.cat(context_embeddings, dim=0)\n",
    "\n",
    "# Compute similarities\n",
    "similarities = cosine_similarity(\n",
    "    question_embedding.detach().numpy(), context_embeddings.detach().numpy()\n",
    ")\n",
    "print(\"Similarities:\", similarities)\n",
    "\n",
    "# Get the most relevant passage\n",
    "most_relevant_idx = np.argmax(similarities)\n",
    "print(\"Most relevant passage:\", passages[most_relevant_idx])\n"
   ]
  }
 ],
 "metadata": {
  "kernelspec": {
   "display_name": "venv_GenAI",
   "language": "python",
   "name": "python3"
  },
  "language_info": {
   "codemirror_mode": {
    "name": "ipython",
    "version": 3
   },
   "file_extension": ".py",
   "mimetype": "text/x-python",
   "name": "python",
   "nbconvert_exporter": "python",
   "pygments_lexer": "ipython3",
   "version": "3.11.0"
  }
 },
 "nbformat": 4,
 "nbformat_minor": 5
}
